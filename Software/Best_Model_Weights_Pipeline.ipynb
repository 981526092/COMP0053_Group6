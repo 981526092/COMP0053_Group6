{
 "cells": [
  {
   "cell_type": "markdown",
   "source": [
    "# Load libraries"
   ],
   "metadata": {
    "collapsed": false
   }
  },
  {
   "cell_type": "code",
   "execution_count": 51,
   "metadata": {
    "collapsed": true
   },
   "outputs": [],
   "source": [
    "import numpy as np\n",
    "from hybrid_model import build_bi_cnn_banet_model,build_bi_cnn_banet_angle_model\n",
    "from evaluation_utils import confusion_matrix_binary,binary_classification_metrics_from_scratch,print_classification_report\n",
    "from data_utils import load_data,get_filenames_without_extension\n",
    "from sklearn.metrics import classification_report,confusion_matrix"
   ]
  },
  {
   "cell_type": "markdown",
   "source": [
    "# Initialize model instances"
   ],
   "metadata": {
    "collapsed": false
   }
  },
  {
   "cell_type": "code",
   "execution_count": 38,
   "outputs": [],
   "source": [
    "HOT_bi_cnn_banet_coordinate = build_bi_cnn_banet_model()\n",
    "HOT_bi_cnn_banet_angle = build_bi_cnn_banet_angle_model()\n",
    "# LPPOCV_bi_cnn_banet_coordinate = build_bi_cnn_banet_model()\n",
    "# TSSCV_bi_cnn_banet_coordinate = build_bi_cnn_banet_model()"
   ],
   "metadata": {
    "collapsed": false
   }
  },
  {
   "cell_type": "markdown",
   "source": [
    "# Load weights"
   ],
   "metadata": {
    "collapsed": false
   }
  },
  {
   "cell_type": "code",
   "execution_count": 39,
   "outputs": [],
   "source": [
    "HOT_bi_cnn_banet_coordinate.load_weights('../Best_Model_Weights/HOT_bi_cnn_banet_coordinate.hdf5')\n",
    "HOT_bi_cnn_banet_angle.load_weights('../Best_Model_Weights/HOT_bi_cnn_banet_angle.hdf5')\n",
    "# LPPOCV_bi_cnn_banet_coordinate.load_weights('../Best_Model_Weights/LPPOCV_bi_cnn_banet_coordinate.hdf5')\n",
    "# TSSCV_bi_cnn_banet_coordinate.load_weights('../Best_Model_Weights/TSSCV_bi_cnn_banet_coordinate.hdf5')"
   ],
   "metadata": {
    "collapsed": false
   }
  },
  {
   "cell_type": "markdown",
   "source": [
    "# Load data"
   ],
   "metadata": {
    "collapsed": false
   }
  },
  {
   "cell_type": "code",
   "execution_count": 40,
   "outputs": [],
   "source": [
    "train_participant_num = get_filenames_without_extension(\"../Alldata/train\")\n",
    "valid_participant_num = get_filenames_without_extension(\"../Alldata/validation\")"
   ],
   "metadata": {
    "collapsed": false
   }
  },
  {
   "cell_type": "code",
   "execution_count": 41,
   "outputs": [
    {
     "name": "stdout",
     "output_type": "stream",
     "text": [
      "P492D is selected to be used for training (downsampling)\n",
      "P191D is selected to be used for training (downsampling)\n",
      "P113D is selected to be used for training (downsampling)\n",
      "P890N is selected to be used for training (downsampling)\n",
      "P299D is selected to be used for training (downsampling)\n",
      "P921N is selected to be used for training (downsampling)\n",
      "C709N is not selected to be used for training (downsampling)\n",
      "C382D is not selected to be used for training (downsampling)\n",
      "P699D is selected to be used for training (downsampling)\n",
      "P531N is selected to be used for training (downsampling)\n",
      "P336D is selected to be used for training (downsampling)\n",
      "P699N is selected to be used for training (downsampling)\n",
      "P300D is selected to be used for training (downsampling)\n",
      "C56D is not selected to be used for training (downsampling)\n",
      "C788N is not selected to be used for training (downsampling)\n",
      "C544D is not selected to be used for training (downsampling)\n",
      "P492N is selected to be used for training (downsampling)\n",
      "P191N is selected to be used for training (downsampling)\n",
      "P113N is selected to be used for training (downsampling)\n",
      "P921D is selected to be used for training (downsampling)\n",
      "C382N is not selected to be used for training (downsampling)\n",
      "P299N is selected to be used for training (downsampling)\n",
      "C93D is not selected to be used for training (downsampling)\n"
     ]
    },
    {
     "data": {
      "text/plain": "((5012, 180, 70), (2869, 180, 70))"
     },
     "execution_count": 41,
     "metadata": {},
     "output_type": "execute_result"
    }
   ],
   "source": [
    "X_train_coordinate,Y_train_coordinate = load_data(train_participant_num,\"train\",downsampling=True,data_path=\"../Alldata/\")\n",
    "X_valid_coordinate,Y_valid_coordinate = load_data(valid_participant_num,\"validation\",data_path=\"../Alldata/\")\n",
    "X_train_coordinate.shape,X_valid_coordinate.shape"
   ],
   "metadata": {
    "collapsed": false
   }
  },
  {
   "cell_type": "code",
   "execution_count": 42,
   "outputs": [
    {
     "name": "stdout",
     "output_type": "stream",
     "text": [
      "P492D is selected to be used for training (downsampling)\n",
      "P191D is selected to be used for training (downsampling)\n",
      "P113D is selected to be used for training (downsampling)\n",
      "P890N is selected to be used for training (downsampling)\n",
      "P299D is selected to be used for training (downsampling)\n",
      "P921N is selected to be used for training (downsampling)\n",
      "C709N is not selected to be used for training (downsampling)\n",
      "C382D is not selected to be used for training (downsampling)\n",
      "P699D is selected to be used for training (downsampling)\n",
      "P531N is selected to be used for training (downsampling)\n",
      "P336D is selected to be used for training (downsampling)\n",
      "P699N is selected to be used for training (downsampling)\n",
      "P300D is selected to be used for training (downsampling)\n",
      "C56D is not selected to be used for training (downsampling)\n",
      "C788N is not selected to be used for training (downsampling)\n",
      "C544D is not selected to be used for training (downsampling)\n",
      "P492N is selected to be used for training (downsampling)\n",
      "P191N is selected to be used for training (downsampling)\n",
      "P113N is selected to be used for training (downsampling)\n",
      "P921D is selected to be used for training (downsampling)\n",
      "C382N is not selected to be used for training (downsampling)\n",
      "P299N is selected to be used for training (downsampling)\n",
      "C93D is not selected to be used for training (downsampling)\n"
     ]
    },
    {
     "data": {
      "text/plain": "((5012, 180, 30), (2869, 180, 30))"
     },
     "execution_count": 42,
     "metadata": {},
     "output_type": "execute_result"
    }
   ],
   "source": [
    "X_train_angle,Y_train_angle = load_data(train_participant_num,\"train\",downsampling=True,data_path=\"../Alldata/\",angle_energy=True)\n",
    "X_valid_angle,Y_valid_angle = load_data(valid_participant_num,\"validation\",data_path=\"../Alldata/\",angle_energy=True)\n",
    "X_train_angle.shape,X_valid_angle.shape"
   ],
   "metadata": {
    "collapsed": false
   }
  },
  {
   "cell_type": "markdown",
   "source": [
    "# Evaluate models"
   ],
   "metadata": {
    "collapsed": false
   }
  },
  {
   "cell_type": "code",
   "execution_count": 43,
   "outputs": [
    {
     "name": "stdout",
     "output_type": "stream",
     "text": [
      "90/90 [==============================] - 6s 49ms/step\n",
      "90/90 [==============================] - 3s 31ms/step\n"
     ]
    }
   ],
   "source": [
    "y_pred_HBCBC = np.argmax(HOT_bi_cnn_banet_coordinate.predict(X_valid_coordinate),axis=1)\n",
    "y_pred_HBCBA = np.argmax(HOT_bi_cnn_banet_angle.predict(X_valid_angle),axis=1)\n",
    "# y_pred_LBCBC = np.argmax(LPPOCV_bi_cnn_banet_coordinate.predict(X_valid_coordinate),axis=1)\n",
    "# y_pred_TBCBC = np.argmax(TSSCV_bi_cnn_banet_coordinate.predict(X_valid_coordinate),axis=1)"
   ],
   "metadata": {
    "collapsed": false
   }
  },
  {
   "cell_type": "code",
   "execution_count": 44,
   "outputs": [],
   "source": [
    "y_true = np.argmax(Y_valid_coordinate,axis=1)"
   ],
   "metadata": {
    "collapsed": false
   }
  },
  {
   "cell_type": "markdown",
   "source": [
    "# Print Results report"
   ],
   "metadata": {
    "collapsed": false
   }
  },
  {
   "cell_type": "code",
   "execution_count": 54,
   "outputs": [
    {
     "name": "stdout",
     "output_type": "stream",
     "text": [
      "HOT_bi_cnn_banet_coordinate\n",
      "Classification Report:\n",
      "              precision    recall  f1-score   support\n",
      "\n",
      "           0       0.98      0.93      0.95      2698\n",
      "           1       0.40      0.73      0.51       171\n",
      "\n",
      "    accuracy                           0.92      2869\n",
      "   macro avg       0.69      0.83      0.73      2869\n",
      "weighted avg       0.95      0.92      0.93      2869\n",
      "\n",
      "Confusion Matrix:\n",
      "[[2507  191]\n",
      " [  46  125]]\n"
     ]
    }
   ],
   "source": [
    "print(\"HOT_bi_cnn_banet_coordinate\")\n",
    "print(\"Classification Report:\")\n",
    "print(classification_report(y_true,y_pred_HBCBC))\n",
    "print(\"Confusion Matrix:\")\n",
    "print(confusion_matrix(y_true,y_pred_HBCBC))"
   ],
   "metadata": {
    "collapsed": false,
    "pycharm": {
     "name": "#%%C la\n"
    }
   }
  },
  {
   "cell_type": "code",
   "execution_count": 55,
   "outputs": [
    {
     "name": "stdout",
     "output_type": "stream",
     "text": [
      "HOT_bi_cnn_banet_angle\n",
      "Classification Report:\n",
      "              precision    recall  f1-score   support\n",
      "\n",
      "           0       0.98      0.95      0.96      2698\n",
      "           1       0.46      0.71      0.56       171\n",
      "\n",
      "    accuracy                           0.93      2869\n",
      "   macro avg       0.72      0.83      0.76      2869\n",
      "weighted avg       0.95      0.93      0.94      2869\n",
      "\n",
      "Confusion Matrix:\n",
      "[[2558  140]\n",
      " [  50  121]]\n"
     ]
    }
   ],
   "source": [
    "print(\"HOT_bi_cnn_banet_angle\")\n",
    "print(\"Classification Report:\")\n",
    "print(classification_report(y_true,y_pred_HBCBA))\n",
    "print(\"Confusion Matrix:\")\n",
    "print(confusion_matrix(y_true,y_pred_HBCBA))"
   ],
   "metadata": {
    "collapsed": false
   }
  },
  {
   "cell_type": "code",
   "execution_count": null,
   "outputs": [],
   "source": [],
   "metadata": {
    "collapsed": false
   }
  }
 ],
 "metadata": {
  "kernelspec": {
   "display_name": "Python 3",
   "language": "python",
   "name": "python3"
  },
  "language_info": {
   "codemirror_mode": {
    "name": "ipython",
    "version": 2
   },
   "file_extension": ".py",
   "mimetype": "text/x-python",
   "name": "python",
   "nbconvert_exporter": "python",
   "pygments_lexer": "ipython2",
   "version": "2.7.6"
  }
 },
 "nbformat": 4,
 "nbformat_minor": 0
}
