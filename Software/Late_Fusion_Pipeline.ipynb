{
 "cells": [
  {
   "cell_type": "code",
   "execution_count": 1,
   "metadata": {
    "collapsed": true
   },
   "outputs": [],
   "source": [
    "from data_utils import load_data,flatten_data\n",
    "from early_model import stacked_lstm\n",
    "from model_utils import model_pipeline,plot_history,ensemble_predictions\n",
    "import numpy as np\n",
    "from sklearn.svm import SVC\n",
    "from sklearn.ensemble import RandomForestClassifier\n",
    "from sklearn.metrics import classification_report, confusion_matrix"
   ]
  },
  {
   "cell_type": "code",
   "execution_count": 2,
   "outputs": [],
   "source": [
    "train_participant_num = [\"C93D\",\"C382D\",\"C382N\",\"C544D\",\"C709N\",\"C788N\",\"P113D\",\"P113N\",\"P191D\",\"P191N\",\"P299D\",\"P300D\",\"P336D\",\"P492D\",\"P492N\",\"P531N\",\"P699D\",\"P890N\",\"P921D\",\"P921N\"]\n",
    "valid_participant_num = [\"C67D\",\"C202D\",\"C202N\",\"C256D\",\"C256N\",\"P54D\",\"P54N\",\"P342D\",\"P342N\",\"P487D\",\"P487N\",\"P649N\"]"
   ],
   "metadata": {
    "collapsed": false
   }
  },
  {
   "cell_type": "code",
   "execution_count": 3,
   "outputs": [],
   "source": [
    "X_train, y_train = load_data(train_participant_num, 'train', downsampling=True,angle_energy=False,augment=False)\n",
    "X_valid, y_valid = load_data(valid_participant_num, 'validation')"
   ],
   "metadata": {
    "collapsed": false
   }
  },
  {
   "cell_type": "code",
   "execution_count": 4,
   "outputs": [
    {
     "name": "stdout",
     "output_type": "stream",
     "text": [
      "(4286, 180, 70) (array([0., 1.], dtype=float32), array([ 844, 3442]))\n",
      "(2869, 180, 70) (array([0., 1.], dtype=float32), array([ 171, 2698]))\n"
     ]
    }
   ],
   "source": [
    "print(X_train.shape,np.unique(y_train[:,0],return_counts=True))\n",
    "\n",
    "print(X_valid.shape,np.unique(y_valid[:,0],return_counts=True))"
   ],
   "metadata": {
    "collapsed": false
   }
  },
  {
   "cell_type": "code",
   "execution_count": 5,
   "outputs": [
    {
     "name": "stderr",
     "output_type": "stream",
     "text": [
      "/Users/zekunwu/Library/Python/3.9/lib/python/site-packages/keras/optimizers/optimizer_v2/adam.py:114: UserWarning: The `lr` argument is deprecated, use `learning_rate` instead.\n",
      "  super().__init__(name, **kwargs)\n",
      "2023-03-20 20:31:33.505090: W tensorflow/core/platform/profile_utils/cpu_utils.cc:128] Failed to get CPU frequency: 0 Hz\n"
     ]
    },
    {
     "name": "stdout",
     "output_type": "stream",
     "text": [
      "\n",
      "Epoch 1: LearningRateScheduler setting learning rate to 0.004999999888241291.\n",
      "Epoch 1/20\n",
      "9/9 [==============================] - 5s 425ms/step - loss: 0.1711 - binary_accuracy: 0.6478 - val_loss: 0.0821 - val_binary_accuracy: 0.9404 - lr: 0.0050\n",
      "\n",
      "Epoch 2: LearningRateScheduler setting learning rate to 0.004999999888241291.\n",
      "Epoch 2/20\n",
      "9/9 [==============================] - 3s 373ms/step - loss: 0.1375 - binary_accuracy: 0.7954 - val_loss: 0.0955 - val_binary_accuracy: 0.9404 - lr: 0.0050\n",
      "\n",
      "Epoch 3: LearningRateScheduler setting learning rate to 0.004999999888241291.\n",
      "Epoch 3/20\n",
      "9/9 [==============================] - 3s 398ms/step - loss: 0.1303 - binary_accuracy: 0.8005 - val_loss: 0.0953 - val_binary_accuracy: 0.9404 - lr: 0.0050\n",
      "\n",
      "Epoch 4: LearningRateScheduler setting learning rate to 0.004999999888241291.\n",
      "Epoch 4/20\n",
      "9/9 [==============================] - 3s 365ms/step - loss: 0.1293 - binary_accuracy: 0.8033 - val_loss: 0.0906 - val_binary_accuracy: 0.9404 - lr: 0.0050\n",
      "\n",
      "Epoch 5: LearningRateScheduler setting learning rate to 0.004999999888241291.\n",
      "Epoch 5/20\n",
      "9/9 [==============================] - 3s 365ms/step - loss: 0.1246 - binary_accuracy: 0.8026 - val_loss: 0.0887 - val_binary_accuracy: 0.9404 - lr: 0.0050\n",
      "\n",
      "Epoch 6: LearningRateScheduler setting learning rate to 0.004999999888241291.\n",
      "Epoch 6/20\n",
      "9/9 [==============================] - 3s 397ms/step - loss: 0.1279 - binary_accuracy: 0.8010 - val_loss: 0.0923 - val_binary_accuracy: 0.9404 - lr: 0.0050\n",
      "\n",
      "Epoch 7: LearningRateScheduler setting learning rate to 0.004999999888241291.\n",
      "Epoch 7/20\n",
      "9/9 [==============================] - 3s 387ms/step - loss: 0.1269 - binary_accuracy: 0.8017 - val_loss: 0.0836 - val_binary_accuracy: 0.9404 - lr: 0.0050\n",
      "\n",
      "Epoch 8: LearningRateScheduler setting learning rate to 0.004999999888241291.\n",
      "Epoch 8/20\n",
      "9/9 [==============================] - 3s 370ms/step - loss: 0.1248 - binary_accuracy: 0.8035 - val_loss: 0.0841 - val_binary_accuracy: 0.9404 - lr: 0.0050\n",
      "\n",
      "Epoch 9: LearningRateScheduler setting learning rate to 0.004999999888241291.\n",
      "Epoch 9/20\n",
      "9/9 [==============================] - 3s 363ms/step - loss: 0.1246 - binary_accuracy: 0.8031 - val_loss: 0.0864 - val_binary_accuracy: 0.9404 - lr: 0.0050\n",
      "\n",
      "Epoch 10: LearningRateScheduler setting learning rate to 0.004999999888241291.\n",
      "Epoch 10/20\n",
      "9/9 [==============================] - 3s 380ms/step - loss: 0.1231 - binary_accuracy: 0.8028 - val_loss: 0.0836 - val_binary_accuracy: 0.9404 - lr: 0.0050\n",
      "\n",
      "Epoch 11: LearningRateScheduler setting learning rate to 0.004749999893829226.\n",
      "Epoch 11/20\n",
      "9/9 [==============================] - 3s 364ms/step - loss: 0.1223 - binary_accuracy: 0.8031 - val_loss: 0.0817 - val_binary_accuracy: 0.9404 - lr: 0.0047\n",
      "\n",
      "Epoch 12: LearningRateScheduler setting learning rate to 0.004512499854899943.\n",
      "Epoch 12/20\n",
      "9/9 [==============================] - 3s 395ms/step - loss: 0.1229 - binary_accuracy: 0.8019 - val_loss: 0.0815 - val_binary_accuracy: 0.9404 - lr: 0.0045\n",
      "\n",
      "Epoch 13: LearningRateScheduler setting learning rate to 0.004286875016987324.\n",
      "Epoch 13/20\n",
      "9/9 [==============================] - 4s 470ms/step - loss: 0.1214 - binary_accuracy: 0.8031 - val_loss: 0.0849 - val_binary_accuracy: 0.9404 - lr: 0.0043\n",
      "\n",
      "Epoch 14: LearningRateScheduler setting learning rate to 0.004072531266137957.\n",
      "Epoch 14/20\n",
      "9/9 [==============================] - 3s 380ms/step - loss: 0.1221 - binary_accuracy: 0.8035 - val_loss: 0.0852 - val_binary_accuracy: 0.9404 - lr: 0.0041\n",
      "\n",
      "Epoch 15: LearningRateScheduler setting learning rate to 0.0038689045701175927.\n",
      "Epoch 15/20\n",
      "9/9 [==============================] - 3s 361ms/step - loss: 0.1210 - binary_accuracy: 0.8033 - val_loss: 0.0809 - val_binary_accuracy: 0.9404 - lr: 0.0039\n",
      "\n",
      "Epoch 16: LearningRateScheduler setting learning rate to 0.0036754594300873575.\n",
      "Epoch 16/20\n",
      "9/9 [==============================] - 3s 389ms/step - loss: 0.1210 - binary_accuracy: 0.8040 - val_loss: 0.0803 - val_binary_accuracy: 0.9404 - lr: 0.0037\n",
      "\n",
      "Epoch 17: LearningRateScheduler setting learning rate to 0.003491686447523534.\n",
      "Epoch 17/20\n",
      "9/9 [==============================] - 3s 400ms/step - loss: 0.1217 - binary_accuracy: 0.8031 - val_loss: 0.0843 - val_binary_accuracy: 0.9404 - lr: 0.0035\n",
      "\n",
      "Epoch 18: LearningRateScheduler setting learning rate to 0.003317102103028446.\n",
      "Epoch 18/20\n",
      "9/9 [==============================] - 3s 370ms/step - loss: 0.1205 - binary_accuracy: 0.8038 - val_loss: 0.0829 - val_binary_accuracy: 0.9404 - lr: 0.0033\n",
      "\n",
      "Epoch 19: LearningRateScheduler setting learning rate to 0.0031512469868175685.\n",
      "Epoch 19/20\n",
      "9/9 [==============================] - 3s 353ms/step - loss: 0.1211 - binary_accuracy: 0.8031 - val_loss: 0.0812 - val_binary_accuracy: 0.9404 - lr: 0.0032\n",
      "\n",
      "Epoch 20: LearningRateScheduler setting learning rate to 0.002993684692773968.\n",
      "Epoch 20/20\n",
      "9/9 [==============================] - 3s 359ms/step - loss: 0.1197 - binary_accuracy: 0.8033 - val_loss: 0.0812 - val_binary_accuracy: 0.9404 - lr: 0.0030\n",
      "90/90 [==============================] - 1s 11ms/step\n",
      "Classification report:\n",
      "              precision    recall  f1-score   support\n",
      "\n",
      "           0       0.94      1.00      0.97      2698\n",
      "           1       0.00      0.00      0.00       171\n",
      "\n",
      "    accuracy                           0.94      2869\n",
      "   macro avg       0.47      0.50      0.48      2869\n",
      "weighted avg       0.88      0.94      0.91      2869\n",
      "\n",
      "Confusion matrix:\n",
      "[[2698    0]\n",
      " [ 171    0]]\n"
     ]
    },
    {
     "name": "stderr",
     "output_type": "stream",
     "text": [
      "/Users/zekunwu/Library/Python/3.9/lib/python/site-packages/sklearn/metrics/_classification.py:1344: UndefinedMetricWarning: Precision and F-score are ill-defined and being set to 0.0 in labels with no predicted samples. Use `zero_division` parameter to control this behavior.\n",
      "  _warn_prf(average, modifier, msg_start, len(result))\n",
      "/Users/zekunwu/Library/Python/3.9/lib/python/site-packages/sklearn/metrics/_classification.py:1344: UndefinedMetricWarning: Precision and F-score are ill-defined and being set to 0.0 in labels with no predicted samples. Use `zero_division` parameter to control this behavior.\n",
      "  _warn_prf(average, modifier, msg_start, len(result))\n",
      "/Users/zekunwu/Library/Python/3.9/lib/python/site-packages/sklearn/metrics/_classification.py:1344: UndefinedMetricWarning: Precision and F-score are ill-defined and being set to 0.0 in labels with no predicted samples. Use `zero_division` parameter to control this behavior.\n",
      "  _warn_prf(average, modifier, msg_start, len(result))\n"
     ]
    },
    {
     "data": {
      "text/plain": "<Figure size 1200x600 with 2 Axes>",
      "image/png": "[encoded data removed]"
     },
     "metadata": {},
     "output_type": "display_data"
    }
   ],
   "source": [
    "input_shape = (X_train.shape[1], X_train.shape[2])\n",
    "num_classes = y_train.shape[1]\n",
    "model = stacked_lstm(input_shape,num_classes)\n",
    "y_pred, y_true, H = model_pipeline(model, X_train, y_train, X_valid, y_valid, epoch=20)\n",
    "plot_history(H)"
   ],
   "metadata": {
    "collapsed": false
   }
  },
  {
   "cell_type": "code",
   "execution_count": 6,
   "outputs": [],
   "source": [
    "X_train_flatten,y_train_flatten = flatten_data(X_train,y_train)\n",
    "X_valid_flatten,y_valid_flatten = flatten_data(X_valid,y_valid)"
   ],
   "metadata": {
    "collapsed": false
   }
  },
  {
   "cell_type": "code",
   "execution_count": 7,
   "outputs": [
    {
     "name": "stdout",
     "output_type": "stream",
     "text": [
      "(4286, 12600) (array([0, 1]), array([3442,  844]))\n",
      "(2869, 12600) (array([0, 1]), array([2698,  171]))\n"
     ]
    }
   ],
   "source": [
    "print(X_train_flatten.shape,np.unique(y_train_flatten[:],return_counts=True))\n",
    "\n",
    "print(X_valid_flatten.shape,np.unique(y_valid_flatten[:],return_counts=True))"
   ],
   "metadata": {
    "collapsed": false
   }
  },
  {
   "cell_type": "code",
   "execution_count": 8,
   "outputs": [],
   "source": [
    "X_train_rf = X_train[:,:,0:66]\n",
    "X_valid_rf = X_valid[:,:,0:66]\n",
    "X_train_svm = X_train[:,:,66:70]\n",
    "X_valid_svm = X_valid[:,:,66:70]"
   ],
   "metadata": {
    "collapsed": false
   }
  },
  {
   "cell_type": "code",
   "execution_count": 9,
   "outputs": [],
   "source": [
    "X_train_rf,y_train_rf = flatten_data(X_train_rf,y_train)\n",
    "X_train_svm,y_train_svm = flatten_data(X_train_svm,y_train)\n",
    "\n",
    "X_valid_rf,y_valid_rf = flatten_data(X_valid_rf,y_valid)\n",
    "X_valid_svm,y_valid_svm = flatten_data(X_valid_svm,y_valid)"
   ],
   "metadata": {
    "collapsed": false
   }
  },
  {
   "cell_type": "code",
   "execution_count": 10,
   "outputs": [
    {
     "data": {
      "text/plain": "SVC(probability=True)",
      "text/html": "<style>#sk-container-id-1 {color: black;background-color: white;}#sk-container-id-1 pre{padding: 0;}#sk-container-id-1 div.sk-toggleable {background-color: white;}#sk-container-id-1 label.sk-toggleable__label {cursor: pointer;display: block;width: 100%;margin-bottom: 0;padding: 0.3em;box-sizing: border-box;text-align: center;}#sk-container-id-1 label.sk-toggleable__label-arrow:before {content: \"▸\";float: left;margin-right: 0.25em;color: #696969;}#sk-container-id-1 label.sk-toggleable__label-arrow:hover:before {color: black;}#sk-container-id-1 div.sk-estimator:hover label.sk-toggleable__label-arrow:before {color: black;}#sk-container-id-1 div.sk-toggleable__content {max-height: 0;max-width: 0;overflow: hidden;text-align: left;background-color: #f0f8ff;}#sk-container-id-1 div.sk-toggleable__content pre {margin: 0.2em;color: black;border-radius: 0.25em;background-color: #f0f8ff;}#sk-container-id-1 input.sk-toggleable__control:checked~div.sk-toggleable__content {max-height: 200px;max-width: 100%;overflow: auto;}#sk-container-id-1 input.sk-toggleable__control:checked~label.sk-toggleable__label-arrow:before {content: \"▾\";}#sk-container-id-1 div.sk-estimator input.sk-toggleable__control:checked~label.sk-toggleable__label {background-color: #d4ebff;}#sk-container-id-1 div.sk-label input.sk-toggleable__control:checked~label.sk-toggleable__label {background-color: #d4ebff;}#sk-container-id-1 input.sk-hidden--visually {border: 0;clip: rect(1px 1px 1px 1px);clip: rect(1px, 1px, 1px, 1px);height: 1px;margin: -1px;overflow: hidden;padding: 0;position: absolute;width: 1px;}#sk-container-id-1 div.sk-estimator {font-family: monospace;background-color: #f0f8ff;border: 1px dotted black;border-radius: 0.25em;box-sizing: border-box;margin-bottom: 0.5em;}#sk-container-id-1 div.sk-estimator:hover {background-color: #d4ebff;}#sk-container-id-1 div.sk-parallel-item::after {content: \"\";width: 100%;border-bottom: 1px solid gray;flex-grow: 1;}#sk-container-id-1 div.sk-label:hover label.sk-toggleable__label {background-color: #d4ebff;}#sk-container-id-1 div.sk-serial::before {content: \"\";position: absolute;border-left: 1px solid gray;box-sizing: border-box;top: 0;bottom: 0;left: 50%;z-index: 0;}#sk-container-id-1 div.sk-serial {display: flex;flex-direction: column;align-items: center;background-color: white;padding-right: 0.2em;padding-left: 0.2em;position: relative;}#sk-container-id-1 div.sk-item {position: relative;z-index: 1;}#sk-container-id-1 div.sk-parallel {display: flex;align-items: stretch;justify-content: center;background-color: white;position: relative;}#sk-container-id-1 div.sk-item::before, #sk-container-id-1 div.sk-parallel-item::before {content: \"\";position: absolute;border-left: 1px solid gray;box-sizing: border-box;top: 0;bottom: 0;left: 50%;z-index: -1;}#sk-container-id-1 div.sk-parallel-item {display: flex;flex-direction: column;z-index: 1;position: relative;background-color: white;}#sk-container-id-1 div.sk-parallel-item:first-child::after {align-self: flex-end;width: 50%;}#sk-container-id-1 div.sk-parallel-item:last-child::after {align-self: flex-start;width: 50%;}#sk-container-id-1 div.sk-parallel-item:only-child::after {width: 0;}#sk-container-id-1 div.sk-dashed-wrapped {border: 1px dashed gray;margin: 0 0.4em 0.5em 0.4em;box-sizing: border-box;padding-bottom: 0.4em;background-color: white;}#sk-container-id-1 div.sk-label label {font-family: monospace;font-weight: bold;display: inline-block;line-height: 1.2em;}#sk-container-id-1 div.sk-label-container {text-align: center;}#sk-container-id-1 div.sk-container {/* jupyter's `normalize.less` sets `[hidden] { display: none; }` but bootstrap.min.css set `[hidden] { display: none !important; }` so we also need the `!important` here to be able to override the default hidden behavior on the sphinx rendered scikit-learn.org. See: https://github.com/scikit-learn/scikit-learn/issues/21755 */display: inline-block !important;position: relative;}#sk-container-id-1 div.sk-text-repr-fallback {display: none;}</style><div id=\"sk-container-id-1\" class=\"sk-top-container\"><div class=\"sk-text-repr-fallback\"><pre>SVC(probability=True)</pre><b>In a Jupyter environment, please rerun this cell to show the HTML representation or trust the notebook. <br />On GitHub, the HTML representation is unable to render, please try loading this page with nbviewer.org.</b></div><div class=\"sk-container\" hidden><div class=\"sk-item\"><div class=\"sk-estimator sk-toggleable\"><input class=\"sk-toggleable__control sk-hidden--visually\" id=\"sk-estimator-id-1\" type=\"checkbox\" checked><label for=\"sk-estimator-id-1\" class=\"sk-toggleable__label sk-toggleable__label-arrow\">SVC</label><div class=\"sk-toggleable__content\"><pre>SVC(probability=True)</pre></div></div></div></div></div>"
     },
     "execution_count": 10,
     "metadata": {},
     "output_type": "execute_result"
    }
   ],
   "source": [
    "rf = RandomForestClassifier()\n",
    "svm = SVC(probability=True)\n",
    "\n",
    "rf.fit(X_train_rf,y_train_rf)\n",
    "svm.fit(X_train_svm,y_train_svm)"
   ],
   "metadata": {
    "collapsed": false
   }
  },
  {
   "cell_type": "code",
   "execution_count": 11,
   "outputs": [],
   "source": [
    "rf_pred = rf.predict_proba(X_valid_rf)\n",
    "svm_pred = svm.predict_proba(X_valid_svm)"
   ],
   "metadata": {
    "collapsed": false
   }
  },
  {
   "cell_type": "code",
   "execution_count": 12,
   "outputs": [
    {
     "name": "stdout",
     "output_type": "stream",
     "text": [
      "              precision    recall  f1-score   support\n",
      "\n",
      "           0       0.97      0.93      0.95      2698\n",
      "           1       0.29      0.49      0.37       171\n",
      "\n",
      "    accuracy                           0.90      2869\n",
      "   macro avg       0.63      0.71      0.66      2869\n",
      "weighted avg       0.93      0.90      0.91      2869\n",
      "\n",
      "[[2497  201]\n",
      " [  87   84]]\n"
     ]
    }
   ],
   "source": [
    "ensemble_pred = ensemble_predictions(rf_pred,svm_pred)\n",
    "print(classification_report(y_valid_rf,ensemble_pred))\n",
    "print(confusion_matrix(y_valid_rf,ensemble_pred))"
   ],
   "metadata": {
    "collapsed": false
   }
  },
  {
   "cell_type": "code",
   "execution_count": 12,
   "outputs": [],
   "source": [],
   "metadata": {
    "collapsed": false
   }
  }
 ],
 "metadata": {
  "kernelspec": {
   "display_name": "Python 3",
   "language": "python",
   "name": "python3"
  },
  "language_info": {
   "codemirror_mode": {
    "name": "ipython",
    "version": 2
   },
   "file_extension": ".py",
   "mimetype": "text/x-python",
   "name": "python",
   "nbconvert_exporter": "python",
   "pygments_lexer": "ipython2",
   "version": "2.7.6"
  }
 },
 "nbformat": 4,
 "nbformat_minor": 0
}
