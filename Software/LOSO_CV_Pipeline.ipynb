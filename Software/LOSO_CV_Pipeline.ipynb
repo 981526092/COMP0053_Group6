{
 "cells": [
  {
   "cell_type": "code",
   "execution_count": 17,
   "metadata": {
    "collapsed": true
   },
   "outputs": [
    {
     "name": "stdout",
     "output_type": "stream",
     "text": [
      "\n",
      "Epoch 1: LearningRateScheduler setting learning rate to 0.0005000000237487257.\n"
     ]
    },
    {
     "name": "stderr",
     "output_type": "stream",
     "text": [
      "/Users/zekunwu/Library/Python/3.9/lib/python/site-packages/keras/optimizers/optimizer_v2/adam.py:114: UserWarning: The `lr` argument is deprecated, use `learning_rate` instead.\n",
      "  super().__init__(name, **kwargs)\n"
     ]
    },
    {
     "name": "stdout",
     "output_type": "stream",
     "text": [
      "1/1 [==============================] - 6s 6s/step - loss: 0.2013 - binary_accuracy: 0.4587 - val_loss: 0.1574 - val_binary_accuracy: 0.6707 - lr: 5.0000e-04\n",
      "235/235 [==============================] - 3s 11ms/step\n",
      "\n",
      "Epoch 1: LearningRateScheduler setting learning rate to 0.0005000000237487257.\n"
     ]
    },
    {
     "name": "stderr",
     "output_type": "stream",
     "text": [
      "/Users/zekunwu/Library/Python/3.9/lib/python/site-packages/keras/optimizers/optimizer_v2/adam.py:114: UserWarning: The `lr` argument is deprecated, use `learning_rate` instead.\n",
      "  super().__init__(name, **kwargs)\n"
     ]
    },
    {
     "name": "stdout",
     "output_type": "stream",
     "text": [
      "1/1 [==============================] - 4s 4s/step - loss: 0.1676 - binary_accuracy: 0.6355 - val_loss: 0.1594 - val_binary_accuracy: 0.6158 - lr: 5.0000e-04\n",
      "236/236 [==============================] - 3s 11ms/step\n",
      "\n",
      "Epoch 1: LearningRateScheduler setting learning rate to 0.0005000000237487257.\n"
     ]
    },
    {
     "name": "stderr",
     "output_type": "stream",
     "text": [
      "/Users/zekunwu/Library/Python/3.9/lib/python/site-packages/keras/optimizers/optimizer_v2/adam.py:114: UserWarning: The `lr` argument is deprecated, use `learning_rate` instead.\n",
      "  super().__init__(name, **kwargs)\n"
     ]
    },
    {
     "name": "stdout",
     "output_type": "stream",
     "text": [
      "WARNING:tensorflow:5 out of the last 17 calls to <function Model.make_train_function.<locals>.train_function at 0x28b7db9d0> triggered tf.function retracing. Tracing is expensive and the excessive number of tracings could be due to (1) creating @tf.function repeatedly in a loop, (2) passing tensors with different shapes, (3) passing Python objects instead of tensors. For (1), please define your @tf.function outside of the loop. For (2), @tf.function has reduce_retracing=True option that can avoid unnecessary retracing. For (3), please refer to https://www.tensorflow.org/guide/function#controlling_retracing and https://www.tensorflow.org/api_docs/python/tf/function for  more details.\n",
      "1/1 [==============================] - 4s 4s/step - loss: 0.1895 - binary_accuracy: 0.5417 - val_loss: 0.1546 - val_binary_accuracy: 0.6655 - lr: 5.0000e-04\n",
      "239/239 [==============================] - 3s 12ms/step\n",
      "\n",
      "Epoch 1: LearningRateScheduler setting learning rate to 0.0005000000237487257.\n"
     ]
    },
    {
     "name": "stderr",
     "output_type": "stream",
     "text": [
      "/Users/zekunwu/Library/Python/3.9/lib/python/site-packages/keras/optimizers/optimizer_v2/adam.py:114: UserWarning: The `lr` argument is deprecated, use `learning_rate` instead.\n",
      "  super().__init__(name, **kwargs)\n"
     ]
    },
    {
     "name": "stdout",
     "output_type": "stream",
     "text": [
      "WARNING:tensorflow:6 out of the last 18 calls to <function Model.make_train_function.<locals>.train_function at 0x291852dc0> triggered tf.function retracing. Tracing is expensive and the excessive number of tracings could be due to (1) creating @tf.function repeatedly in a loop, (2) passing tensors with different shapes, (3) passing Python objects instead of tensors. For (1), please define your @tf.function outside of the loop. For (2), @tf.function has reduce_retracing=True option that can avoid unnecessary retracing. For (3), please refer to https://www.tensorflow.org/guide/function#controlling_retracing and https://www.tensorflow.org/api_docs/python/tf/function for  more details.\n",
      "1/1 [==============================] - 5s 5s/step - loss: 0.2116 - binary_accuracy: 0.5021 - val_loss: 0.1514 - val_binary_accuracy: 0.7269 - lr: 5.0000e-04\n",
      "232/232 [==============================] - 3s 10ms/step\n"
     ]
    },
    {
     "name": "stderr",
     "output_type": "stream",
     "text": [
      "/Users/zekunwu/Library/Python/3.9/lib/python/site-packages/keras/optimizers/optimizer_v2/adam.py:114: UserWarning: The `lr` argument is deprecated, use `learning_rate` instead.\n",
      "  super().__init__(name, **kwargs)\n"
     ]
    },
    {
     "name": "stdout",
     "output_type": "stream",
     "text": [
      "\n",
      "Epoch 1: LearningRateScheduler setting learning rate to 0.0005000000237487257.\n",
      "1/1 [==============================] - 4s 4s/step - loss: 0.1780 - binary_accuracy: 0.5508 - val_loss: 0.1485 - val_binary_accuracy: 0.8243 - lr: 5.0000e-04\n",
      "232/232 [==============================] - 3s 10ms/step\n",
      "\n",
      "Epoch 1: LearningRateScheduler setting learning rate to 0.0005000000237487257.\n"
     ]
    },
    {
     "name": "stderr",
     "output_type": "stream",
     "text": [
      "/Users/zekunwu/Library/Python/3.9/lib/python/site-packages/keras/optimizers/optimizer_v2/adam.py:114: UserWarning: The `lr` argument is deprecated, use `learning_rate` instead.\n",
      "  super().__init__(name, **kwargs)\n"
     ]
    },
    {
     "name": "stdout",
     "output_type": "stream",
     "text": [
      "1/1 [==============================] - 5s 5s/step - loss: 0.1663 - binary_accuracy: 0.6316 - val_loss: 0.1484 - val_binary_accuracy: 0.8318 - lr: 5.0000e-04\n",
      "238/238 [==============================] - 3s 10ms/step\n",
      "\n",
      "Epoch 1: LearningRateScheduler setting learning rate to 0.0005000000237487257.\n"
     ]
    },
    {
     "name": "stderr",
     "output_type": "stream",
     "text": [
      "/Users/zekunwu/Library/Python/3.9/lib/python/site-packages/keras/optimizers/optimizer_v2/adam.py:114: UserWarning: The `lr` argument is deprecated, use `learning_rate` instead.\n",
      "  super().__init__(name, **kwargs)\n"
     ]
    },
    {
     "name": "stdout",
     "output_type": "stream",
     "text": [
      "1/1 [==============================] - 4s 4s/step - loss: 0.1746 - binary_accuracy: 0.5878 - val_loss: 0.1438 - val_binary_accuracy: 0.8308 - lr: 5.0000e-04\n",
      "239/239 [==============================] - 3s 11ms/step\n",
      "\n",
      "Epoch 1: LearningRateScheduler setting learning rate to 0.0005000000237487257.\n"
     ]
    },
    {
     "name": "stderr",
     "output_type": "stream",
     "text": [
      "/Users/zekunwu/Library/Python/3.9/lib/python/site-packages/keras/optimizers/optimizer_v2/adam.py:114: UserWarning: The `lr` argument is deprecated, use `learning_rate` instead.\n",
      "  super().__init__(name, **kwargs)\n"
     ]
    },
    {
     "name": "stdout",
     "output_type": "stream",
     "text": [
      "1/1 [==============================] - 6s 6s/step - loss: 0.1591 - binary_accuracy: 0.6599 - val_loss: 0.1405 - val_binary_accuracy: 0.8336 - lr: 5.0000e-04\n",
      "237/237 [==============================] - 3s 11ms/step\n",
      "\n",
      "Epoch 1: LearningRateScheduler setting learning rate to 0.0005000000237487257.\n"
     ]
    },
    {
     "name": "stderr",
     "output_type": "stream",
     "text": [
      "/Users/zekunwu/Library/Python/3.9/lib/python/site-packages/keras/optimizers/optimizer_v2/adam.py:114: UserWarning: The `lr` argument is deprecated, use `learning_rate` instead.\n",
      "  super().__init__(name, **kwargs)\n"
     ]
    },
    {
     "name": "stdout",
     "output_type": "stream",
     "text": [
      "1/1 [==============================] - 4s 4s/step - loss: 0.1688 - binary_accuracy: 0.6844 - val_loss: 0.1406 - val_binary_accuracy: 0.8367 - lr: 5.0000e-04\n",
      "239/239 [==============================] - 3s 10ms/step\n",
      "\n",
      "Epoch 1: LearningRateScheduler setting learning rate to 0.0005000000237487257.\n"
     ]
    },
    {
     "name": "stderr",
     "output_type": "stream",
     "text": [
      "/Users/zekunwu/Library/Python/3.9/lib/python/site-packages/keras/optimizers/optimizer_v2/adam.py:114: UserWarning: The `lr` argument is deprecated, use `learning_rate` instead.\n",
      "  super().__init__(name, **kwargs)\n"
     ]
    },
    {
     "name": "stdout",
     "output_type": "stream",
     "text": [
      "1/1 [==============================] - 5s 5s/step - loss: 0.1829 - binary_accuracy: 0.5265 - val_loss: 0.1398 - val_binary_accuracy: 0.8437 - lr: 5.0000e-04\n",
      "237/237 [==============================] - 3s 10ms/step\n",
      "\n",
      "Epoch 1: LearningRateScheduler setting learning rate to 0.0005000000237487257.\n"
     ]
    },
    {
     "name": "stderr",
     "output_type": "stream",
     "text": [
      "/Users/zekunwu/Library/Python/3.9/lib/python/site-packages/keras/optimizers/optimizer_v2/adam.py:114: UserWarning: The `lr` argument is deprecated, use `learning_rate` instead.\n",
      "  super().__init__(name, **kwargs)\n"
     ]
    },
    {
     "name": "stdout",
     "output_type": "stream",
     "text": [
      "1/1 [==============================] - 4s 4s/step - loss: 0.1193 - binary_accuracy: 0.8016 - val_loss: 0.1398 - val_binary_accuracy: 0.8318 - lr: 5.0000e-04\n",
      "239/239 [==============================] - 3s 11ms/step\n",
      "\n",
      "Epoch 1: LearningRateScheduler setting learning rate to 0.0005000000237487257.\n"
     ]
    },
    {
     "name": "stderr",
     "output_type": "stream",
     "text": [
      "/Users/zekunwu/Library/Python/3.9/lib/python/site-packages/keras/optimizers/optimizer_v2/adam.py:114: UserWarning: The `lr` argument is deprecated, use `learning_rate` instead.\n",
      "  super().__init__(name, **kwargs)\n"
     ]
    },
    {
     "name": "stdout",
     "output_type": "stream",
     "text": [
      "1/1 [==============================] - 4s 4s/step - loss: 0.1404 - binary_accuracy: 0.7318 - val_loss: 0.1376 - val_binary_accuracy: 0.8322 - lr: 5.0000e-04\n",
      "237/237 [==============================] - 3s 11ms/step\n",
      "\n",
      "Epoch 1: LearningRateScheduler setting learning rate to 0.0005000000237487257.\n"
     ]
    },
    {
     "name": "stderr",
     "output_type": "stream",
     "text": [
      "/Users/zekunwu/Library/Python/3.9/lib/python/site-packages/keras/optimizers/optimizer_v2/adam.py:114: UserWarning: The `lr` argument is deprecated, use `learning_rate` instead.\n",
      "  super().__init__(name, **kwargs)\n"
     ]
    },
    {
     "name": "stdout",
     "output_type": "stream",
     "text": [
      "1/1 [==============================] - 7s 7s/step - loss: 0.1629 - binary_accuracy: 0.6677 - val_loss: 0.1348 - val_binary_accuracy: 0.8364 - lr: 5.0000e-04\n",
      "237/237 [==============================] - 3s 10ms/step\n",
      "\n",
      "Epoch 1: LearningRateScheduler setting learning rate to 0.0005000000237487257.\n"
     ]
    },
    {
     "name": "stderr",
     "output_type": "stream",
     "text": [
      "/Users/zekunwu/Library/Python/3.9/lib/python/site-packages/keras/optimizers/optimizer_v2/adam.py:114: UserWarning: The `lr` argument is deprecated, use `learning_rate` instead.\n",
      "  super().__init__(name, **kwargs)\n"
     ]
    },
    {
     "name": "stdout",
     "output_type": "stream",
     "text": [
      "1/1 [==============================] - 4s 4s/step - loss: 0.1809 - binary_accuracy: 0.6245 - val_loss: 0.1338 - val_binary_accuracy: 0.8425 - lr: 5.0000e-04\n",
      "238/238 [==============================] - 3s 11ms/step\n",
      "\n",
      "Epoch 1: LearningRateScheduler setting learning rate to 0.0005000000237487257.\n"
     ]
    },
    {
     "name": "stderr",
     "output_type": "stream",
     "text": [
      "/Users/zekunwu/Library/Python/3.9/lib/python/site-packages/keras/optimizers/optimizer_v2/adam.py:114: UserWarning: The `lr` argument is deprecated, use `learning_rate` instead.\n",
      "  super().__init__(name, **kwargs)\n"
     ]
    },
    {
     "name": "stdout",
     "output_type": "stream",
     "text": [
      "1/1 [==============================] - 4s 4s/step - loss: 0.1451 - binary_accuracy: 0.7350 - val_loss: 0.1309 - val_binary_accuracy: 0.8367 - lr: 5.0000e-04\n",
      "241/241 [==============================] - 3s 11ms/step\n",
      "\n",
      "Epoch 1: LearningRateScheduler setting learning rate to 0.0005000000237487257.\n"
     ]
    },
    {
     "name": "stderr",
     "output_type": "stream",
     "text": [
      "/Users/zekunwu/Library/Python/3.9/lib/python/site-packages/keras/optimizers/optimizer_v2/adam.py:114: UserWarning: The `lr` argument is deprecated, use `learning_rate` instead.\n",
      "  super().__init__(name, **kwargs)\n"
     ]
    },
    {
     "name": "stdout",
     "output_type": "stream",
     "text": [
      "1/1 [==============================] - 4s 4s/step - loss: 0.1687 - binary_accuracy: 0.6416 - val_loss: 0.1290 - val_binary_accuracy: 0.8465 - lr: 5.0000e-04\n",
      "236/236 [==============================] - 3s 11ms/step\n",
      "LOSO cross-validation scores: [0.49079806 0.47111333 0.47644344 0.48359337 0.50416436 0.487346\n",
      " 0.4757813  0.4742405  0.47170822 0.46585647 0.46394229 0.46262657\n",
      " 0.46334084 0.46857845 0.46714467 0.47176443]\n",
      "Mean F1 score: 0.4749026436659666\n"
     ]
    }
   ],
   "source": [
    "import numpy as np\n",
    "from sklearn.metrics import f1_score\n",
    "from sklearn.model_selection import LeavePOut\n",
    "from keras.models import clone_model\n",
    "from model_utils import model_pipeline\n",
    "from data_utils import load_data\n",
    "from early_model import stacked_lstm\n",
    "\n",
    "def LPSO_cross_validation(model, train_participant_num,valid_participant_num,p = 15,epoch = 50):\n",
    "    loo = LeavePOut(p=p)\n",
    "    scores = []\n",
    "    best_f1 = 0\n",
    "    best_model = None\n",
    "    X_validation, y_validation = load_data(valid_participant_num, data_set=\"validation\")\n",
    "\n",
    "    for train, valid in loo.split(train_participant_num):\n",
    "        train_participants = [train_participant_num[i] for i in train]\n",
    "        valid_participants = [train_participant_num[i] for i in valid]\n",
    "\n",
    "        x_train,y_train = load_data(train_participants,data_set=\"train\")\n",
    "        x_valid,y_valid = load_data(valid_participants,data_set=\"train\")\n",
    "\n",
    "        x_valid = np.concatenate((X_validation,x_valid),axis=0)\n",
    "        y_valid = np.concatenate((y_validation,y_valid),axis=0)\n",
    "\n",
    "# Use the model_pipeline function to train and evaluate the model\n",
    "        y_pred, y_true, H = model_pipeline(model, x_train, y_train, x_valid, y_valid, save_model=False, print_results=False,epoch=epoch)\n",
    "\n",
    "        score = f1_score(y_true, y_pred, average='macro')\n",
    "\n",
    "        # Store the score\n",
    "        scores.append(score)\n",
    "\n",
    "        # Check if this is the best model so far\n",
    "        if score > best_f1:\n",
    "            best_f1 = score\n",
    "            best_model = clone_model(model)\n",
    "            best_model.set_weights(model.get_weights())\n",
    "\n",
    "    return np.array(scores), best_model\n",
    "\n",
    "# Perform LOSO cross-validation\n",
    "train_participant_num = [\"P113D\",\"P113N\",\"P191D\",\"P191N\",\"P299D\",\"P299N\",\"P300D\",\"P336D\",\"P492D\",\"P492N\",\"P531N\",\"P699D\",\"P699N\",\"P890N\",\"P921D\",\"P921N\"]\n",
    "valid_participant_num = [\"C67D\",\"C202D\",\"C202N\",\"C256D\",\"C256N\",\"P54D\",\"P54N\",\"P342D\",\"P342N\",\"P487D\",\"P487N\",\"P649N\"]\n",
    "\n",
    "model = stacked_lstm((180,70), 2)\n",
    "\n",
    "scores, best_model = LPSO_cross_validation(model,train_participant_num, valid_participant_num, p=15,epoch=1)\n",
    "print(\"LOSO cross-validation scores:\", scores)\n",
    "print(\"Mean F1 score:\", np.mean(scores))\n"
   ]
  },
  {
   "cell_type": "code",
   "execution_count": 5,
   "outputs": [],
   "source": [],
   "metadata": {
    "collapsed": false
   }
  }
 ],
 "metadata": {
  "kernelspec": {
   "display_name": "Python 3",
   "language": "python",
   "name": "python3"
  },
  "language_info": {
   "codemirror_mode": {
    "name": "ipython",
    "version": 2
   },
   "file_extension": ".py",
   "mimetype": "text/x-python",
   "name": "python",
   "nbconvert_exporter": "python",
   "pygments_lexer": "ipython2",
   "version": "2.7.6"
  }
 },
 "nbformat": 4,
 "nbformat_minor": 0
}
