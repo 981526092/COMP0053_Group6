{
 "cells": [
  {
   "cell_type": "code",
   "execution_count": 2,
   "metadata": {
    "collapsed": true
   },
   "outputs": [],
   "source": [
    "from data_visualisation import plot_target\n",
    "from data_utils import get_filenames_without_extension,load_data,load_raw_data"
   ]
  },
  {
   "cell_type": "code",
   "execution_count": 6,
   "outputs": [],
   "source": [
    "train_file_name = get_filenames_without_extension(\"../CoordinateData/train\")"
   ],
   "metadata": {
    "collapsed": false
   }
  },
  {
   "cell_type": "code",
   "execution_count": 7,
   "outputs": [
    {
     "data": {
      "text/plain": "['P492D',\n 'P191D',\n 'P113D',\n 'P890N',\n 'P299D',\n 'P921N',\n 'C709N',\n 'C382D',\n 'P699D',\n 'P531N',\n 'P336D',\n 'P699N',\n 'P300D',\n 'C56D',\n 'C788N',\n 'C544D',\n 'P492N',\n 'P191N',\n 'P113N',\n 'P921D',\n 'C382N',\n 'P299N',\n 'C93D']"
     },
     "execution_count": 7,
     "metadata": {},
     "output_type": "execute_result"
    }
   ],
   "source": [
    "train_file_name"
   ],
   "metadata": {
    "collapsed": false
   }
  },
  {
   "cell_type": "code",
   "execution_count": null,
   "outputs": [],
   "source": [],
   "metadata": {
    "collapsed": false
   }
  }
 ],
 "metadata": {
  "kernelspec": {
   "display_name": "Python 3",
   "language": "python",
   "name": "python3"
  },
  "language_info": {
   "codemirror_mode": {
    "name": "ipython",
    "version": 2
   },
   "file_extension": ".py",
   "mimetype": "text/x-python",
   "name": "python",
   "nbconvert_exporter": "python",
   "pygments_lexer": "ipython2",
   "version": "2.7.6"
  }
 },
 "nbformat": 4,
 "nbformat_minor": 0
}
