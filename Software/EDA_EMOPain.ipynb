{
 "cells": [
  {
   "cell_type": "code",
   "execution_count": 1,
   "metadata": {
    "collapsed": true
   },
   "outputs": [],
   "source": [
    "from data_visualisation import plot_target\n",
    "from data_utils import get_filenames_without_extension,load_data,load_raw_data"
   ]
  },
  {
   "cell_type": "code",
   "execution_count": 2,
   "outputs": [],
   "source": [
    "train_participant_num = get_filenames_without_extension(\"../CoordinateData/train\")\n",
    "valid_participant_num = get_filenames_without_extension(\"../CoordinateData/validation\")"
   ],
   "metadata": {
    "collapsed": false
   }
  },
  {
   "cell_type": "code",
   "execution_count": 3,
   "outputs": [
    {
     "data": {
      "text/plain": "(23, 12)"
     },
     "execution_count": 3,
     "metadata": {},
     "output_type": "execute_result"
    }
   ],
   "source": [
    "len(train_participant_num),len(valid_participant_num)"
   ],
   "metadata": {
    "collapsed": false
   }
  },
  {
   "cell_type": "code",
   "execution_count": 4,
   "outputs": [
    {
     "data": {
      "text/plain": "array([[-139.078941  , -134.01277881, -129.95592172, ...,    0.        ,\n           0.        ,    0.        ],\n       [-139.061093  , -133.99606513, -129.9524933 , ...,    0.        ,\n           0.        ,    0.        ],\n       [-139.060618  , -134.00045716, -129.97369152, ...,    0.        ,\n           0.        ,    0.        ],\n       ...,\n       [  28.98055632,   34.49192672,   35.54559754, ...,    0.        ,\n           0.        ,    0.        ],\n       [  18.99630425,   20.97642586,   24.02999759, ...,    0.        ,\n           0.        ,    0.        ],\n       [   9.01407502,    7.47200098,   12.51561605, ...,    0.        ,\n           0.        ,    0.        ]])"
     },
     "execution_count": 4,
     "metadata": {},
     "output_type": "execute_result"
    }
   ],
   "source": [
    "load_raw_data(train_participant_num,\"train\")"
   ],
   "metadata": {
    "collapsed": false
   }
  },
  {
   "cell_type": "code",
   "execution_count": 4,
   "outputs": [],
   "source": [],
   "metadata": {
    "collapsed": false
   }
  }
 ],
 "metadata": {
  "kernelspec": {
   "display_name": "Python 3",
   "language": "python",
   "name": "python3"
  },
  "language_info": {
   "codemirror_mode": {
    "name": "ipython",
    "version": 2
   },
   "file_extension": ".py",
   "mimetype": "text/x-python",
   "name": "python",
   "nbconvert_exporter": "python",
   "pygments_lexer": "ipython2",
   "version": "2.7.6"
  }
 },
 "nbformat": 4,
 "nbformat_minor": 0
}
