{
 "cells": [
  {
   "cell_type": "markdown",
   "source": [
    "# Load libraries"
   ],
   "metadata": {
    "collapsed": false
   }
  },
  {
   "cell_type": "code",
   "execution_count": 18,
   "outputs": [],
   "source": [
    "from evaluation_utils import LeavePOut_CV,TimeSeriesSplit_CV\n",
    "import numpy as np\n",
    "from data_utils import get_filenames_without_extension\n",
    "from data_utils import load_data\n",
    "from early_model import stacked_lstm"
   ],
   "metadata": {
    "collapsed": false
   }
  },
  {
   "cell_type": "markdown",
   "source": [
    "# Load Dataset"
   ],
   "metadata": {
    "collapsed": false
   }
  },
  {
   "cell_type": "code",
   "execution_count": 19,
   "outputs": [],
   "source": [
    "train_participant_num = get_filenames_without_extension(\"../CoordinateData/train\")\n",
    "valid_participant_num = get_filenames_without_extension(\"../CoordinateData/validation\")\n",
    "X_train_data,Y_train_data = load_data(train_participant_num,\"train\",downsampling=False)\n",
    "X_valid_data,Y_valid_data = load_data(valid_participant_num,\"validation\")"
   ],
   "metadata": {
    "collapsed": false
   }
  },
  {
   "cell_type": "markdown",
   "source": [
    "# Perform Leave-P-Participant-Out Cross-Validation (LPPOCV)"
   ],
   "metadata": {
    "collapsed": false
   }
  },
  {
   "cell_type": "code",
   "execution_count": 20,
   "metadata": {
    "collapsed": true
   },
   "outputs": [
    {
     "name": "stdout",
     "output_type": "stream",
     "text": [
      "\n",
      "Epoch 1: LearningRateScheduler setting learning rate to 0.0005000000237487257.\n"
     ]
    },
    {
     "name": "stderr",
     "output_type": "stream",
     "text": [
      "/Users/zekunwu/Library/Python/3.9/lib/python/site-packages/keras/optimizers/optimizer_v2/adam.py:114: UserWarning: The `lr` argument is deprecated, use `learning_rate` instead.\n",
      "  super().__init__(name, **kwargs)\n"
     ]
    },
    {
     "name": "stdout",
     "output_type": "stream",
     "text": [
      "1/1 [==============================] - ETA: 0s - loss: 0.1547 - binary_accuracy: 0.6912WARNING:tensorflow:5 out of the last 13 calls to <function Model.make_test_function.<locals>.test_function at 0x2ccfdeb80> triggered tf.function retracing. Tracing is expensive and the excessive number of tracings could be due to (1) creating @tf.function repeatedly in a loop, (2) passing tensors with different shapes, (3) passing Python objects instead of tensors. For (1), please define your @tf.function outside of the loop. For (2), @tf.function has reduce_retracing=True option that can avoid unnecessary retracing. For (3), please refer to https://www.tensorflow.org/guide/function#controlling_retracing and https://www.tensorflow.org/api_docs/python/tf/function for  more details.\n",
      "1/1 [==============================] - 4s 4s/step - loss: 0.1547 - binary_accuracy: 0.6912 - val_loss: 0.1505 - val_binary_accuracy: 0.7524 - lr: 5.0000e-04\n",
      "145/145 [==============================] - 2s 11ms/step\n",
      "\n",
      "Epoch 1: LearningRateScheduler setting learning rate to 0.0005000000237487257.\n"
     ]
    },
    {
     "name": "stderr",
     "output_type": "stream",
     "text": [
      "/Users/zekunwu/Library/Python/3.9/lib/python/site-packages/keras/optimizers/optimizer_v2/adam.py:114: UserWarning: The `lr` argument is deprecated, use `learning_rate` instead.\n",
      "  super().__init__(name, **kwargs)\n"
     ]
    },
    {
     "name": "stdout",
     "output_type": "stream",
     "text": [
      "1/1 [==============================] - 3s 3s/step - loss: 0.1977 - binary_accuracy: 0.5361 - val_loss: 0.1488 - val_binary_accuracy: 0.7524 - lr: 5.0000e-04\n",
      "147/147 [==============================] - 2s 11ms/step\n",
      "\n",
      "Epoch 1: LearningRateScheduler setting learning rate to 0.0005000000237487257.\n"
     ]
    },
    {
     "name": "stderr",
     "output_type": "stream",
     "text": [
      "/Users/zekunwu/Library/Python/3.9/lib/python/site-packages/keras/optimizers/optimizer_v2/adam.py:114: UserWarning: The `lr` argument is deprecated, use `learning_rate` instead.\n",
      "  super().__init__(name, **kwargs)\n"
     ]
    },
    {
     "name": "stdout",
     "output_type": "stream",
     "text": [
      "1/1 [==============================] - 6s 6s/step - loss: 0.1682 - binary_accuracy: 0.6705 - val_loss: 0.1454 - val_binary_accuracy: 0.7595 - lr: 5.0000e-04\n",
      "149/149 [==============================] - 2s 12ms/step\n",
      "\n",
      "Epoch 1: LearningRateScheduler setting learning rate to 0.0005000000237487257.\n"
     ]
    },
    {
     "name": "stderr",
     "output_type": "stream",
     "text": [
      "/Users/zekunwu/Library/Python/3.9/lib/python/site-packages/keras/optimizers/optimizer_v2/adam.py:114: UserWarning: The `lr` argument is deprecated, use `learning_rate` instead.\n",
      "  super().__init__(name, **kwargs)\n"
     ]
    },
    {
     "name": "stdout",
     "output_type": "stream",
     "text": [
      "1/1 [==============================] - 3s 3s/step - loss: 0.1983 - binary_accuracy: 0.5232 - val_loss: 0.1403 - val_binary_accuracy: 0.7790 - lr: 5.0000e-04\n",
      "142/142 [==============================] - 2s 10ms/step\n",
      "\n",
      "Epoch 1: LearningRateScheduler setting learning rate to 0.0005000000237487257.\n"
     ]
    },
    {
     "name": "stderr",
     "output_type": "stream",
     "text": [
      "/Users/zekunwu/Library/Python/3.9/lib/python/site-packages/keras/optimizers/optimizer_v2/adam.py:114: UserWarning: The `lr` argument is deprecated, use `learning_rate` instead.\n",
      "  super().__init__(name, **kwargs)\n"
     ]
    },
    {
     "name": "stdout",
     "output_type": "stream",
     "text": [
      "1/1 [==============================] - 3s 3s/step - loss: 0.1933 - binary_accuracy: 0.5657 - val_loss: 0.1445 - val_binary_accuracy: 0.7742 - lr: 5.0000e-04\n",
      "142/142 [==============================] - 2s 11ms/step\n",
      "\n",
      "Epoch 1: LearningRateScheduler setting learning rate to 0.0005000000237487257.\n"
     ]
    },
    {
     "name": "stderr",
     "output_type": "stream",
     "text": [
      "/Users/zekunwu/Library/Python/3.9/lib/python/site-packages/keras/optimizers/optimizer_v2/adam.py:114: UserWarning: The `lr` argument is deprecated, use `learning_rate` instead.\n",
      "  super().__init__(name, **kwargs)\n"
     ]
    },
    {
     "name": "stdout",
     "output_type": "stream",
     "text": [
      "1/1 [==============================] - 3s 3s/step - loss: 0.1559 - binary_accuracy: 0.6702 - val_loss: 0.1463 - val_binary_accuracy: 0.7531 - lr: 5.0000e-04\n",
      "148/148 [==============================] - 2s 11ms/step\n",
      "\n",
      "Epoch 1: LearningRateScheduler setting learning rate to 0.0005000000237487257.\n"
     ]
    },
    {
     "name": "stderr",
     "output_type": "stream",
     "text": [
      "/Users/zekunwu/Library/Python/3.9/lib/python/site-packages/keras/optimizers/optimizer_v2/adam.py:114: UserWarning: The `lr` argument is deprecated, use `learning_rate` instead.\n",
      "  super().__init__(name, **kwargs)\n"
     ]
    },
    {
     "name": "stdout",
     "output_type": "stream",
     "text": [
      "1/1 [==============================] - 3s 3s/step - loss: 0.1279 - binary_accuracy: 0.7959 - val_loss: 0.1424 - val_binary_accuracy: 0.7630 - lr: 5.0000e-04\n",
      "149/149 [==============================] - 2s 10ms/step\n",
      "\n",
      "Epoch 1: LearningRateScheduler setting learning rate to 0.0005000000237487257.\n"
     ]
    },
    {
     "name": "stderr",
     "output_type": "stream",
     "text": [
      "/Users/zekunwu/Library/Python/3.9/lib/python/site-packages/keras/optimizers/optimizer_v2/adam.py:114: UserWarning: The `lr` argument is deprecated, use `learning_rate` instead.\n",
      "  super().__init__(name, **kwargs)\n"
     ]
    },
    {
     "name": "stdout",
     "output_type": "stream",
     "text": [
      "1/1 [==============================] - 6s 6s/step - loss: 0.1319 - binary_accuracy: 0.7710 - val_loss: 0.1416 - val_binary_accuracy: 0.7644 - lr: 5.0000e-04\n",
      "148/148 [==============================] - 2s 10ms/step\n",
      "\n",
      "Epoch 1: LearningRateScheduler setting learning rate to 0.0005000000237487257.\n"
     ]
    },
    {
     "name": "stderr",
     "output_type": "stream",
     "text": [
      "/Users/zekunwu/Library/Python/3.9/lib/python/site-packages/keras/optimizers/optimizer_v2/adam.py:114: UserWarning: The `lr` argument is deprecated, use `learning_rate` instead.\n",
      "  super().__init__(name, **kwargs)\n"
     ]
    },
    {
     "name": "stdout",
     "output_type": "stream",
     "text": [
      "1/1 [==============================] - 3s 3s/step - loss: 0.1685 - binary_accuracy: 0.6639 - val_loss: 0.1379 - val_binary_accuracy: 0.7735 - lr: 5.0000e-04\n",
      "149/149 [==============================] - 2s 10ms/step\n",
      "\n",
      "Epoch 1: LearningRateScheduler setting learning rate to 0.0005000000237487257.\n"
     ]
    },
    {
     "name": "stderr",
     "output_type": "stream",
     "text": [
      "/Users/zekunwu/Library/Python/3.9/lib/python/site-packages/keras/optimizers/optimizer_v2/adam.py:114: UserWarning: The `lr` argument is deprecated, use `learning_rate` instead.\n",
      "  super().__init__(name, **kwargs)\n"
     ]
    },
    {
     "name": "stdout",
     "output_type": "stream",
     "text": [
      "1/1 [==============================] - 3s 3s/step - loss: 0.1840 - binary_accuracy: 0.5826 - val_loss: 0.1364 - val_binary_accuracy: 0.7849 - lr: 5.0000e-04\n",
      "147/147 [==============================] - 2s 11ms/step\n",
      "\n",
      "Epoch 1: LearningRateScheduler setting learning rate to 0.0005000000237487257.\n"
     ]
    },
    {
     "name": "stderr",
     "output_type": "stream",
     "text": [
      "/Users/zekunwu/Library/Python/3.9/lib/python/site-packages/keras/optimizers/optimizer_v2/adam.py:114: UserWarning: The `lr` argument is deprecated, use `learning_rate` instead.\n",
      "  super().__init__(name, **kwargs)\n"
     ]
    },
    {
     "name": "stdout",
     "output_type": "stream",
     "text": [
      "1/1 [==============================] - 4s 4s/step - loss: 0.1503 - binary_accuracy: 0.7302 - val_loss: 0.1358 - val_binary_accuracy: 0.7815 - lr: 5.0000e-04\n",
      "149/149 [==============================] - 2s 11ms/step\n",
      "\n",
      "Epoch 1: LearningRateScheduler setting learning rate to 0.0005000000237487257.\n"
     ]
    },
    {
     "name": "stderr",
     "output_type": "stream",
     "text": [
      "/Users/zekunwu/Library/Python/3.9/lib/python/site-packages/keras/optimizers/optimizer_v2/adam.py:114: UserWarning: The `lr` argument is deprecated, use `learning_rate` instead.\n",
      "  super().__init__(name, **kwargs)\n"
     ]
    },
    {
     "name": "stdout",
     "output_type": "stream",
     "text": [
      "1/1 [==============================] - 3s 3s/step - loss: 0.1376 - binary_accuracy: 0.7980 - val_loss: 0.1363 - val_binary_accuracy: 0.7788 - lr: 5.0000e-04\n",
      "148/148 [==============================] - 2s 10ms/step\n",
      "\n",
      "Epoch 1: LearningRateScheduler setting learning rate to 0.0005000000237487257.\n"
     ]
    },
    {
     "name": "stderr",
     "output_type": "stream",
     "text": [
      "/Users/zekunwu/Library/Python/3.9/lib/python/site-packages/keras/optimizers/optimizer_v2/adam.py:114: UserWarning: The `lr` argument is deprecated, use `learning_rate` instead.\n",
      "  super().__init__(name, **kwargs)\n"
     ]
    },
    {
     "name": "stdout",
     "output_type": "stream",
     "text": [
      "1/1 [==============================] - 3s 3s/step - loss: 0.1369 - binary_accuracy: 0.7409 - val_loss: 0.1346 - val_binary_accuracy: 0.7880 - lr: 5.0000e-04\n",
      "147/147 [==============================] - 2s 11ms/step\n",
      "\n",
      "Epoch 1: LearningRateScheduler setting learning rate to 0.0005000000237487257.\n"
     ]
    },
    {
     "name": "stderr",
     "output_type": "stream",
     "text": [
      "/Users/zekunwu/Library/Python/3.9/lib/python/site-packages/keras/optimizers/optimizer_v2/adam.py:114: UserWarning: The `lr` argument is deprecated, use `learning_rate` instead.\n",
      "  super().__init__(name, **kwargs)\n"
     ]
    },
    {
     "name": "stdout",
     "output_type": "stream",
     "text": [
      "1/1 [==============================] - 9s 9s/step - loss: 0.1746 - binary_accuracy: 0.6570 - val_loss: 0.1334 - val_binary_accuracy: 0.7932 - lr: 5.0000e-04\n",
      "148/148 [==============================] - 2s 11ms/step\n",
      "\n",
      "Epoch 1: LearningRateScheduler setting learning rate to 0.0005000000237487257.\n"
     ]
    },
    {
     "name": "stderr",
     "output_type": "stream",
     "text": [
      "/Users/zekunwu/Library/Python/3.9/lib/python/site-packages/keras/optimizers/optimizer_v2/adam.py:114: UserWarning: The `lr` argument is deprecated, use `learning_rate` instead.\n",
      "  super().__init__(name, **kwargs)\n"
     ]
    },
    {
     "name": "stdout",
     "output_type": "stream",
     "text": [
      "1/1 [==============================] - 4s 4s/step - loss: 0.1183 - binary_accuracy: 0.8350 - val_loss: 0.1325 - val_binary_accuracy: 0.7833 - lr: 5.0000e-04\n",
      "151/151 [==============================] - 2s 12ms/step\n",
      "\n",
      "Epoch 1: LearningRateScheduler setting learning rate to 0.0005000000237487257.\n"
     ]
    },
    {
     "name": "stderr",
     "output_type": "stream",
     "text": [
      "/Users/zekunwu/Library/Python/3.9/lib/python/site-packages/keras/optimizers/optimizer_v2/adam.py:114: UserWarning: The `lr` argument is deprecated, use `learning_rate` instead.\n",
      "  super().__init__(name, **kwargs)\n"
     ]
    },
    {
     "name": "stdout",
     "output_type": "stream",
     "text": [
      "1/1 [==============================] - 4s 4s/step - loss: 0.1643 - binary_accuracy: 0.6717 - val_loss: 0.1316 - val_binary_accuracy: 0.7959 - lr: 5.0000e-04\n",
      "147/147 [==============================] - 2s 12ms/step\n",
      "LPPOCV cross-validation scores: [0.45527054 0.45645694 0.44338546 0.45031226 0.46354721 0.44424389\n",
      " 0.4462825  0.44444939 0.44595529 0.44838038 0.44613908 0.43875633\n",
      " 0.44071642 0.44335651 0.44016897 0.44421999]\n",
      "Mean F1 score: 0.4469775733604535\n"
     ]
    }
   ],
   "source": [
    "CV_participant_num = [\"P113D\",\"P113N\",\"P191D\",\"P191N\",\"P299D\",\"P299N\",\"P300D\",\"P336D\",\"P492D\",\"P492N\",\"P531N\",\"P699D\",\"P699N\",\"P890N\",\"P921D\",\"P921N\"]\n",
    "\n",
    "model = stacked_lstm((180,70), 2)\n",
    "\n",
    "scores, best_model = LeavePOut_CV(model,CV_participant_num,p=15,epoch=1)\n",
    "print(\"LPPOCV cross-validation scores:\", scores)\n",
    "print(\"Mean F1 score:\", np.mean(scores))\n",
    "# best_model.save_weights(\"../Model\")"
   ]
  },
  {
   "cell_type": "markdown",
   "source": [
    "# Perform Time_Series_Spilt_Cross_Validation (TSSCV)"
   ],
   "metadata": {
    "collapsed": false
   }
  },
  {
   "cell_type": "code",
   "execution_count": 21,
   "outputs": [
    {
     "name": "stdout",
     "output_type": "stream",
     "text": [
      "\n",
      "Epoch 1: LearningRateScheduler setting learning rate to 0.0005000000237487257.\n"
     ]
    },
    {
     "name": "stderr",
     "output_type": "stream",
     "text": [
      "/Users/zekunwu/Library/Python/3.9/lib/python/site-packages/keras/optimizers/optimizer_v2/adam.py:114: UserWarning: The `lr` argument is deprecated, use `learning_rate` instead.\n",
      "  super().__init__(name, **kwargs)\n"
     ]
    },
    {
     "name": "stdout",
     "output_type": "stream",
     "text": [
      "3/3 [==============================] - 3s 528ms/step - loss: 0.1564 - binary_accuracy: 0.7215 - val_loss: 0.1147 - val_binary_accuracy: 0.9066 - lr: 5.0000e-04\n",
      "35/35 [==============================] - 1s 11ms/step\n",
      "\n",
      "Epoch 1: LearningRateScheduler setting learning rate to 0.0005000000237487257.\n"
     ]
    },
    {
     "name": "stderr",
     "output_type": "stream",
     "text": [
      "/Users/zekunwu/Library/Python/3.9/lib/python/site-packages/keras/optimizers/optimizer_v2/adam.py:114: UserWarning: The `lr` argument is deprecated, use `learning_rate` instead.\n",
      "  super().__init__(name, **kwargs)\n"
     ]
    },
    {
     "name": "stdout",
     "output_type": "stream",
     "text": [
      "5/5 [==============================] - 4s 392ms/step - loss: 0.1406 - binary_accuracy: 0.7750 - val_loss: 0.1407 - val_binary_accuracy: 0.7811 - lr: 5.0000e-04\n",
      "35/35 [==============================] - 1s 10ms/step\n",
      "\n",
      "Epoch 1: LearningRateScheduler setting learning rate to 0.0005000000237487257.\n"
     ]
    },
    {
     "name": "stderr",
     "output_type": "stream",
     "text": [
      "/Users/zekunwu/Library/Python/3.9/lib/python/site-packages/keras/optimizers/optimizer_v2/adam.py:114: UserWarning: The `lr` argument is deprecated, use `learning_rate` instead.\n",
      "  super().__init__(name, **kwargs)\n"
     ]
    },
    {
     "name": "stdout",
     "output_type": "stream",
     "text": [
      "7/7 [==============================] - 4s 392ms/step - loss: 0.1393 - binary_accuracy: 0.7725 - val_loss: 0.1532 - val_binary_accuracy: 0.7070 - lr: 5.0000e-04\n",
      "35/35 [==============================] - 1s 11ms/step\n",
      "\n",
      "Epoch 1: LearningRateScheduler setting learning rate to 0.0005000000237487257.\n"
     ]
    },
    {
     "name": "stderr",
     "output_type": "stream",
     "text": [
      "/Users/zekunwu/Library/Python/3.9/lib/python/site-packages/keras/optimizers/optimizer_v2/adam.py:114: UserWarning: The `lr` argument is deprecated, use `learning_rate` instead.\n",
      "  super().__init__(name, **kwargs)\n"
     ]
    },
    {
     "name": "stdout",
     "output_type": "stream",
     "text": [
      "9/9 [==============================] - 13s 346ms/step - loss: 0.1408 - binary_accuracy: 0.7687 - val_loss: 0.0876 - val_binary_accuracy: 0.9350 - lr: 5.0000e-04\n",
      "35/35 [==============================] - 1s 13ms/step\n",
      "\n",
      "Epoch 1: LearningRateScheduler setting learning rate to 0.0005000000237487257.\n"
     ]
    },
    {
     "name": "stderr",
     "output_type": "stream",
     "text": [
      "/Users/zekunwu/Library/Python/3.9/lib/python/site-packages/keras/optimizers/optimizer_v2/adam.py:114: UserWarning: The `lr` argument is deprecated, use `learning_rate` instead.\n",
      "  super().__init__(name, **kwargs)\n"
     ]
    },
    {
     "name": "stdout",
     "output_type": "stream",
     "text": [
      "11/11 [==============================] - 5s 335ms/step - loss: 0.1339 - binary_accuracy: 0.8016 - val_loss: 0.0930 - val_binary_accuracy: 0.9112 - lr: 5.0000e-04\n",
      "35/35 [==============================] - 1s 11ms/step\n",
      "TSSCV scores: [0.47550432 0.43856041 0.41416309 0.48319924 0.4767609 ]\n",
      "Mean F1 score: 0.457637593560744\n"
     ]
    }
   ],
   "source": [
    "scores, best_model = TimeSeriesSplit_CV(model,X_train_data,Y_train_data,n_splits=5,epoch=1)\n",
    "print(\"TSSCV scores:\", scores)\n",
    "print(\"Mean F1 score:\", np.mean(scores))\n",
    "# best_model.save_weights(\"../Model\")"
   ],
   "metadata": {
    "collapsed": false
   }
  }
 ],
 "metadata": {
  "kernelspec": {
   "display_name": "Python 3",
   "language": "python",
   "name": "python3"
  },
  "language_info": {
   "codemirror_mode": {
    "name": "ipython",
    "version": 2
   },
   "file_extension": ".py",
   "mimetype": "text/x-python",
   "name": "python",
   "nbconvert_exporter": "python",
   "pygments_lexer": "ipython2",
   "version": "2.7.6"
  }
 },
 "nbformat": 4,
 "nbformat_minor": 0
}
