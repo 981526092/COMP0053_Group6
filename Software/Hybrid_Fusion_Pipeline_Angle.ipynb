{
 "cells": [
  {
   "cell_type": "code",
   "execution_count": null,
   "id": "4d1808eb",
   "metadata": {},
   "outputs": [],
   "source": [
    "from data_utils import load_data,flatten_data\n",
    "from hybrid_model import build_bi_cnn_banet_angle_model\n",
    "from model_utils import model_pipeline,plot_history\n",
    "import numpy as np\n",
    "from sklearn.ensemble import RandomForestClassifier,AdaBoostClassifier\n",
    "from sklearn.metrics import classification_report, confusion_matrix, f1_score"
   ]
  },
  {
   "cell_type": "code",
   "execution_count": null,
   "id": "fb9399ab",
   "metadata": {},
   "outputs": [],
   "source": [
    "train_participant_num = [\"C56D\",\"C93D\",\"C382D\",\"C382N\",\"C544D\",\"C709N\",\"C788N\",\"P113D\",\"P113N\",\"P191D\",\"P191N\",\"P299D\",\"P299N\",\"P300D\",\"P336D\",\"P492D\",\"P492N\",\"P531N\",\"P699D\",\"P699N\",\"P890N\",\"P921D\",\"P921N\"]\n",
    "valid_participant_num = [\"C67D\",\"C202D\",\"C202N\",\"C256D\",\"C256N\",\"P54D\",\"P54N\",\"P342D\",\"P342N\",\"P487D\",\"P487N\",\"P649N\"]"
   ]
  },
  {
   "cell_type": "code",
   "execution_count": null,
   "id": "19924bf3",
   "metadata": {},
   "outputs": [],
   "source": [
    "# Load angle_energy data\n",
    "X_train_angle, y_train_angle = load_data(train_participant_num, 'train', downsampling=True, angle_energy=True)\n",
    "X_valid_angle, y_valid_angle = load_data(valid_participant_num, 'validation', angle_energy=True)"
   ]
  },
  {
   "cell_type": "code",
   "execution_count": null,
   "id": "235542fc",
   "metadata": {},
   "outputs": [],
   "source": [
    "print(X_train.shape,np.unique(y_train[:,0],return_counts=True))\n",
    "print(X_valid.shape,np.unique(y_valid[:,0],return_counts=True))"
   ]
  },
  {
   "cell_type": "code",
   "execution_count": null,
   "id": "efa42a53",
   "metadata": {},
   "outputs": [],
   "source": [
    "input_shape = (X_train_angle.shape[1], X_train_angle.shape[2])\n",
    "num_classes = y_train_angle.shape[1]\n",
    "model = build_bi_cnn_banet_angle_model()\n",
    "y_pred, y_true, H = model_pipeline(model, X_train_angle, y_train_angle, X_valid_angle, y_valid_angle, epoch=20)\n",
    "plot_history(H)\n",
    "f1_score(y_true, y_pred, average='macro')"
   ]
  }
 ],
 "metadata": {
  "kernelspec": {
   "display_name": "Python 3 (ipykernel)",
   "language": "python",
   "name": "python3"
  },
  "language_info": {
   "codemirror_mode": {
    "name": "ipython",
    "version": 3
   },
   "file_extension": ".py",
   "mimetype": "text/x-python",
   "name": "python",
   "nbconvert_exporter": "python",
   "pygments_lexer": "ipython3",
   "version": "3.9.12"
  }
 },
 "nbformat": 4,
 "nbformat_minor": 5
}
