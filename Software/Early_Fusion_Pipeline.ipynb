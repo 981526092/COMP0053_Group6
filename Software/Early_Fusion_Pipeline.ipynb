{
 "cells": [
  {
   "cell_type": "code",
   "execution_count": 7,
   "metadata": {
    "collapsed": true
   },
   "outputs": [
    {
     "ename": "ModuleNotFoundError",
     "evalue": "No module named 'Software'",
     "output_type": "error",
     "traceback": [
      "\u001B[0;31m---------------------------------------------------------------------------\u001B[0m",
      "\u001B[0;31mModuleNotFoundError\u001B[0m                       Traceback (most recent call last)",
      "Cell \u001B[0;32mIn [7], line 1\u001B[0m\n\u001B[0;32m----> 1\u001B[0m \u001B[38;5;28;01mfrom\u001B[39;00m \u001B[38;5;21;01mSoftware\u001B[39;00m\u001B[38;5;21;01m.\u001B[39;00m\u001B[38;5;21;01mdata_loader\u001B[39;00m \u001B[38;5;28;01mimport\u001B[39;00m load_data\n",
      "\u001B[0;31mModuleNotFoundError\u001B[0m: No module named 'Software'"
     ]
    }
   ],
   "source": [
    "from Software.data_loader import load_data"
   ]
  },
  {
   "cell_type": "code",
   "execution_count": null,
   "outputs": [],
   "source": [
    "train_participant_num = [\"C93D\",\"C382D\",\"C382N\",\"C544D\",\"C709N\",\"C788N\",\"P113D\",\"P113N\",\"P191D\",\"P191N\",\"P299D\",\"P300D\",\"P336D\",\"P492D\",\"P492N\",\"P531N\",\"P699D\",\"P890N\",\"P921D\",\"P921N\"]\n",
    "valid_participant_num = [\"C67D\",\"C202D\",\"C202N\",\"C256D\",\"C256N\",\"P54D\",\"P54N\",\"P342D\",\"P342N\",\"P487D\",\"P487N\",\"P649N\"]"
   ],
   "metadata": {
    "collapsed": false
   }
  },
  {
   "cell_type": "code",
   "execution_count": null,
   "outputs": [],
   "source": [
    "X_train, y_train = load_data(train_participant_num, 'train', downsampling=True,angle_energy=False,augment=False)\n",
    "X_valid, y_valid = load_data(valid_participant_num, 'validation')"
   ],
   "metadata": {
    "collapsed": false
   }
  }
 ],
 "metadata": {
  "kernelspec": {
   "display_name": "Python 3",
   "language": "python",
   "name": "python3"
  },
  "language_info": {
   "codemirror_mode": {
    "name": "ipython",
    "version": 2
   },
   "file_extension": ".py",
   "mimetype": "text/x-python",
   "name": "python",
   "nbconvert_exporter": "python",
   "pygments_lexer": "ipython2",
   "version": "2.7.6"
  }
 },
 "nbformat": 4,
 "nbformat_minor": 0
}
