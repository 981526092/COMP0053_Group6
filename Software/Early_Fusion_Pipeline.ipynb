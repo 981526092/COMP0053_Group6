{
 "cells": [
  {
   "cell_type": "markdown",
   "source": [
    "# Load libraries"
   ],
   "metadata": {
    "collapsed": false
   }
  },
  {
   "cell_type": "code",
   "execution_count": 6,
   "metadata": {
    "collapsed": true
   },
   "outputs": [],
   "source": [
    "from data_utils import load_data,flatten_data\n",
    "from early_model import stacked_lstm\n",
    "from model_utils import model_pipeline,plot_history\n",
    "import numpy as np\n",
    "from sklearn.ensemble import RandomForestClassifier,AdaBoostClassifier\n",
    "from sklearn.metrics import classification_report, confusion_matrix"
   ]
  },
  {
   "cell_type": "markdown",
   "source": [
    "# Define participant numbers"
   ],
   "metadata": {
    "collapsed": false
   }
  },
  {
   "cell_type": "code",
   "execution_count": 7,
   "outputs": [],
   "source": [
    "train_participant_num = [\"C56D\",\"C93D\",\"C382D\",\"C382N\",\"C544D\",\"C709N\",\"C788N\",\"P113D\",\"P113N\",\"P191D\",\"P191N\",\"P299D\",\"P299N\",\"P300D\",\"P336D\",\"P492D\",\"P492N\",\"P531N\",\"P699D\",\"P699N\",\"P890N\",\"P921D\",\"P921N\"]\n",
    "valid_participant_num = [\"C67D\",\"C202D\",\"C202N\",\"C256D\",\"C256N\",\"P54D\",\"P54N\",\"P342D\",\"P342N\",\"P487D\",\"P487N\",\"P649N\"]"
   ],
   "metadata": {
    "collapsed": false
   }
  },
  {
   "cell_type": "markdown",
   "source": [
    "# Load Coordinate data"
   ],
   "metadata": {
    "collapsed": false
   }
  },
  {
   "cell_type": "code",
   "execution_count": 41,
   "outputs": [],
   "source": [
    "X_train, y_train = load_data(train_participant_num, 'train', downsampling=True,angle_energy=False,augment=False)\n",
    "X_valid, y_valid = load_data(valid_participant_num, 'validation')"
   ],
   "metadata": {
    "collapsed": false
   }
  },
  {
   "cell_type": "markdown",
   "source": [
    "# Print shape of data"
   ],
   "metadata": {
    "collapsed": false
   }
  },
  {
   "cell_type": "code",
   "execution_count": 42,
   "outputs": [
    {
     "name": "stdout",
     "output_type": "stream",
     "text": [
      "(5012, 180, 70) (array([0., 1.], dtype=float32), array([1053, 3959]))\n",
      "(2869, 180, 70) (array([0., 1.], dtype=float32), array([ 171, 2698]))\n"
     ]
    }
   ],
   "source": [
    "print(X_train.shape,np.unique(y_train[:,0],return_counts=True))\n",
    "\n",
    "print(X_valid.shape,np.unique(y_valid[:,0],return_counts=True))"
   ],
   "metadata": {
    "collapsed": false
   }
  },
  {
   "cell_type": "markdown",
   "source": [
    "# Build Stacked-Deep-LSTM-Coordinate model"
   ],
   "metadata": {
    "collapsed": false
   }
  },
  {
   "cell_type": "code",
   "execution_count": 43,
   "outputs": [
    {
     "name": "stderr",
     "output_type": "stream",
     "text": [
      "/Users/zekunwu/Library/Python/3.9/lib/python/site-packages/keras/optimizers/optimizer_v2/adam.py:114: UserWarning: The `lr` argument is deprecated, use `learning_rate` instead.\n",
      "  super().__init__(name, **kwargs)\n"
     ]
    },
    {
     "name": "stdout",
     "output_type": "stream",
     "text": [
      "\n",
      "Epoch 1: LearningRateScheduler setting learning rate to 0.0005000000237487257.\n",
      "Epoch 1/50\n",
      "11/11 [==============================] - 19s 2s/step - loss: 0.2187 - binary_accuracy: 0.4792 - val_loss: 0.1374 - val_binary_accuracy: 0.8728 - lr: 5.0000e-04\n",
      "\n",
      "Epoch 2: LearningRateScheduler setting learning rate to 0.0005000000237487257.\n",
      "Epoch 2/50\n",
      "11/11 [==============================] - 7s 621ms/step - loss: 0.1789 - binary_accuracy: 0.5934 - val_loss: 0.1152 - val_binary_accuracy: 0.9376 - lr: 5.0000e-04\n",
      "\n",
      "Epoch 3: LearningRateScheduler setting learning rate to 0.0005000000237487257.\n",
      "Epoch 3/50\n",
      "11/11 [==============================] - 11s 1s/step - loss: 0.1637 - binary_accuracy: 0.6658 - val_loss: 0.1015 - val_binary_accuracy: 0.9400 - lr: 5.0000e-04\n",
      "\n",
      "Epoch 4: LearningRateScheduler setting learning rate to 0.0005000000237487257.\n",
      "Epoch 4/50\n",
      "11/11 [==============================] - 10s 947ms/step - loss: 0.1564 - binary_accuracy: 0.6935 - val_loss: 0.0952 - val_binary_accuracy: 0.9404 - lr: 5.0000e-04\n",
      "\n",
      "Epoch 5: LearningRateScheduler setting learning rate to 0.0005000000237487257.\n",
      "Epoch 5/50\n",
      "11/11 [==============================] - 11s 1s/step - loss: 0.1543 - binary_accuracy: 0.7075 - val_loss: 0.0917 - val_binary_accuracy: 0.9404 - lr: 5.0000e-04\n",
      "\n",
      "Epoch 6: LearningRateScheduler setting learning rate to 0.0005000000237487257.\n",
      "Epoch 6/50\n",
      "11/11 [==============================] - 11s 1s/step - loss: 0.1494 - binary_accuracy: 0.7257 - val_loss: 0.0912 - val_binary_accuracy: 0.9404 - lr: 5.0000e-04\n",
      "\n",
      "Epoch 7: LearningRateScheduler setting learning rate to 0.0005000000237487257.\n",
      "Epoch 7/50\n",
      "11/11 [==============================] - 13s 1s/step - loss: 0.1454 - binary_accuracy: 0.7322 - val_loss: 0.0913 - val_binary_accuracy: 0.9404 - lr: 5.0000e-04\n",
      "\n",
      "Epoch 8: LearningRateScheduler setting learning rate to 0.0005000000237487257.\n",
      "Epoch 8/50\n",
      "11/11 [==============================] - 11s 994ms/step - loss: 0.1434 - binary_accuracy: 0.7456 - val_loss: 0.0913 - val_binary_accuracy: 0.9404 - lr: 5.0000e-04\n",
      "\n",
      "Epoch 9: LearningRateScheduler setting learning rate to 0.0005000000237487257.\n",
      "Epoch 9/50\n",
      "11/11 [==============================] - 11s 1s/step - loss: 0.1405 - binary_accuracy: 0.7480 - val_loss: 0.0920 - val_binary_accuracy: 0.9404 - lr: 5.0000e-04\n",
      "\n",
      "Epoch 10: LearningRateScheduler setting learning rate to 0.0005000000237487257.\n",
      "Epoch 10/50\n",
      "11/11 [==============================] - 11s 1s/step - loss: 0.1411 - binary_accuracy: 0.7550 - val_loss: 0.0915 - val_binary_accuracy: 0.9404 - lr: 5.0000e-04\n",
      "\n",
      "Epoch 11: LearningRateScheduler setting learning rate to 0.00047500002256128937.\n",
      "Epoch 11/50\n",
      "11/11 [==============================] - 11s 984ms/step - loss: 0.1387 - binary_accuracy: 0.7568 - val_loss: 0.0911 - val_binary_accuracy: 0.9404 - lr: 4.7500e-04\n",
      "\n",
      "Epoch 12: LearningRateScheduler setting learning rate to 0.0004512500076089054.\n",
      "Epoch 12/50\n",
      "11/11 [==============================] - 11s 1s/step - loss: 0.1378 - binary_accuracy: 0.7586 - val_loss: 0.0904 - val_binary_accuracy: 0.9404 - lr: 4.5125e-04\n",
      "\n",
      "Epoch 13: LearningRateScheduler setting learning rate to 0.00042868750169873233.\n",
      "Epoch 13/50\n",
      "11/11 [==============================] - 11s 1s/step - loss: 0.1381 - binary_accuracy: 0.7580 - val_loss: 0.0905 - val_binary_accuracy: 0.9404 - lr: 4.2869e-04\n",
      "\n",
      "Epoch 14: LearningRateScheduler setting learning rate to 0.0004072531155543402.\n",
      "Epoch 14/50\n",
      "11/11 [==============================] - 11s 1s/step - loss: 0.1358 - binary_accuracy: 0.7594 - val_loss: 0.0899 - val_binary_accuracy: 0.9404 - lr: 4.0725e-04\n",
      "\n",
      "Epoch 15: LearningRateScheduler setting learning rate to 0.0003868904459523037.\n",
      "Epoch 15/50\n",
      "11/11 [==============================] - 11s 989ms/step - loss: 0.1364 - binary_accuracy: 0.7668 - val_loss: 0.0894 - val_binary_accuracy: 0.9404 - lr: 3.8689e-04\n",
      "\n",
      "Epoch 16: LearningRateScheduler setting learning rate to 0.000367545909830369.\n",
      "Epoch 16/50\n",
      "11/11 [==============================] - 11s 1s/step - loss: 0.1362 - binary_accuracy: 0.7628 - val_loss: 0.0892 - val_binary_accuracy: 0.9404 - lr: 3.6755e-04\n",
      "\n",
      "Epoch 17: LearningRateScheduler setting learning rate to 0.0003491686060442589.\n",
      "Epoch 17/50\n",
      "11/11 [==============================] - 12s 1s/step - loss: 0.1350 - binary_accuracy: 0.7694 - val_loss: 0.0880 - val_binary_accuracy: 0.9404 - lr: 3.4917e-04\n",
      "\n",
      "Epoch 18: LearningRateScheduler setting learning rate to 0.00033171017712447793.\n",
      "Epoch 18/50\n",
      "11/11 [==============================] - 10s 923ms/step - loss: 0.1338 - binary_accuracy: 0.7680 - val_loss: 0.0871 - val_binary_accuracy: 0.9404 - lr: 3.3171e-04\n",
      "\n",
      "Epoch 19: LearningRateScheduler setting learning rate to 0.0003151246710331179.\n",
      "Epoch 19/50\n",
      "11/11 [==============================] - 13s 1s/step - loss: 0.1344 - binary_accuracy: 0.7727 - val_loss: 0.0856 - val_binary_accuracy: 0.9404 - lr: 3.1512e-04\n",
      "\n",
      "Epoch 20: LearningRateScheduler setting learning rate to 0.00029936843056930227.\n",
      "Epoch 20/50\n",
      "11/11 [==============================] - 12s 1s/step - loss: 0.1320 - binary_accuracy: 0.7727 - val_loss: 0.0856 - val_binary_accuracy: 0.9404 - lr: 2.9937e-04\n",
      "\n",
      "Epoch 21: LearningRateScheduler setting learning rate to 0.0002844000104232691.\n",
      "Epoch 21/50\n",
      "11/11 [==============================] - 12s 1s/step - loss: 0.1330 - binary_accuracy: 0.7717 - val_loss: 0.0874 - val_binary_accuracy: 0.9404 - lr: 2.8440e-04\n",
      "\n",
      "Epoch 22: LearningRateScheduler setting learning rate to 0.0002701800112845376.\n",
      "Epoch 22/50\n",
      "11/11 [==============================] - 11s 1s/step - loss: 0.1316 - binary_accuracy: 0.7721 - val_loss: 0.0873 - val_binary_accuracy: 0.9404 - lr: 2.7018e-04\n",
      "\n",
      "Epoch 23: LearningRateScheduler setting learning rate to 0.00025667099689599123.\n",
      "Epoch 23/50\n",
      "11/11 [==============================] - 11s 1s/step - loss: 0.1316 - binary_accuracy: 0.7721 - val_loss: 0.0862 - val_binary_accuracy: 0.9404 - lr: 2.5667e-04\n",
      "\n",
      "Epoch 24: LearningRateScheduler setting learning rate to 0.0002438374387566.\n",
      "Epoch 24/50\n",
      "11/11 [==============================] - 12s 1s/step - loss: 0.1301 - binary_accuracy: 0.7741 - val_loss: 0.0852 - val_binary_accuracy: 0.9404 - lr: 2.4384e-04\n",
      "\n",
      "Epoch 25: LearningRateScheduler setting learning rate to 0.00023164556405390612.\n",
      "Epoch 25/50\n",
      "11/11 [==============================] - 11s 980ms/step - loss: 0.1313 - binary_accuracy: 0.7709 - val_loss: 0.0858 - val_binary_accuracy: 0.9404 - lr: 2.3165e-04\n",
      "\n",
      "Epoch 26: LearningRateScheduler setting learning rate to 0.00022006328654242677.\n",
      "Epoch 26/50\n",
      "11/11 [==============================] - 12s 1s/step - loss: 0.1294 - binary_accuracy: 0.7791 - val_loss: 0.0858 - val_binary_accuracy: 0.9404 - lr: 2.2006e-04\n",
      "\n",
      "Epoch 27: LearningRateScheduler setting learning rate to 0.00020906012359773739.\n",
      "Epoch 27/50\n",
      "11/11 [==============================] - 10s 953ms/step - loss: 0.1300 - binary_accuracy: 0.7733 - val_loss: 0.0847 - val_binary_accuracy: 0.9404 - lr: 2.0906e-04\n",
      "\n",
      "Epoch 28: LearningRateScheduler setting learning rate to 0.00019860711327055467.\n",
      "Epoch 28/50\n",
      "11/11 [==============================] - 11s 1s/step - loss: 0.1304 - binary_accuracy: 0.7769 - val_loss: 0.0845 - val_binary_accuracy: 0.9404 - lr: 1.9861e-04\n",
      "\n",
      "Epoch 29: LearningRateScheduler setting learning rate to 0.00018867675898945888.\n",
      "Epoch 29/50\n",
      "11/11 [==============================] - 11s 1s/step - loss: 0.1300 - binary_accuracy: 0.7686 - val_loss: 0.0847 - val_binary_accuracy: 0.9404 - lr: 1.8868e-04\n",
      "\n",
      "Epoch 30: LearningRateScheduler setting learning rate to 0.00017924291896633803.\n",
      "Epoch 30/50\n",
      "11/11 [==============================] - 11s 1s/step - loss: 0.1274 - binary_accuracy: 0.7789 - val_loss: 0.0844 - val_binary_accuracy: 0.9404 - lr: 1.7924e-04\n",
      "\n",
      "Epoch 31: LearningRateScheduler setting learning rate to 0.00017028077854774892.\n",
      "Epoch 31/50\n",
      "11/11 [==============================] - 12s 1s/step - loss: 0.1284 - binary_accuracy: 0.7765 - val_loss: 0.0840 - val_binary_accuracy: 0.9404 - lr: 1.7028e-04\n",
      "\n",
      "Epoch 32: LearningRateScheduler setting learning rate to 0.00016176673962036147.\n",
      "Epoch 32/50\n",
      "11/11 [==============================] - 12s 1s/step - loss: 0.1290 - binary_accuracy: 0.7777 - val_loss: 0.0835 - val_binary_accuracy: 0.9404 - lr: 1.6177e-04\n",
      "\n",
      "Epoch 33: LearningRateScheduler setting learning rate to 0.00015367840678663923.\n",
      "Epoch 33/50\n",
      "11/11 [==============================] - 11s 964ms/step - loss: 0.1283 - binary_accuracy: 0.7811 - val_loss: 0.0831 - val_binary_accuracy: 0.9404 - lr: 1.5368e-04\n",
      "\n",
      "Epoch 34: LearningRateScheduler setting learning rate to 0.00014599449059460312.\n",
      "Epoch 34/50\n",
      "11/11 [==============================] - 11s 1s/step - loss: 0.1298 - binary_accuracy: 0.7777 - val_loss: 0.0830 - val_binary_accuracy: 0.9404 - lr: 1.4599e-04\n",
      "\n",
      "Epoch 35: LearningRateScheduler setting learning rate to 0.00013869476606487297.\n",
      "Epoch 35/50\n",
      "11/11 [==============================] - 12s 1s/step - loss: 0.1286 - binary_accuracy: 0.7795 - val_loss: 0.0830 - val_binary_accuracy: 0.9404 - lr: 1.3869e-04\n",
      "90/90 [==============================] - 3s 19ms/step\n",
      "Classification report:\n"
     ]
    },
    {
     "name": "stderr",
     "output_type": "stream",
     "text": [
      "/Users/zekunwu/Library/Python/3.9/lib/python/site-packages/sklearn/metrics/_classification.py:1344: UndefinedMetricWarning: Precision and F-score are ill-defined and being set to 0.0 in labels with no predicted samples. Use `zero_division` parameter to control this behavior.\n",
      "  _warn_prf(average, modifier, msg_start, len(result))\n",
      "/Users/zekunwu/Library/Python/3.9/lib/python/site-packages/sklearn/metrics/_classification.py:1344: UndefinedMetricWarning: Precision and F-score are ill-defined and being set to 0.0 in labels with no predicted samples. Use `zero_division` parameter to control this behavior.\n",
      "  _warn_prf(average, modifier, msg_start, len(result))\n",
      "/Users/zekunwu/Library/Python/3.9/lib/python/site-packages/sklearn/metrics/_classification.py:1344: UndefinedMetricWarning: Precision and F-score are ill-defined and being set to 0.0 in labels with no predicted samples. Use `zero_division` parameter to control this behavior.\n",
      "  _warn_prf(average, modifier, msg_start, len(result))\n"
     ]
    },
    {
     "name": "stdout",
     "output_type": "stream",
     "text": [
      "              precision    recall  f1-score   support\n",
      "\n",
      "           0       0.94      1.00      0.97      2698\n",
      "           1       0.00      0.00      0.00       171\n",
      "\n",
      "    accuracy                           0.94      2869\n",
      "   macro avg       0.47      0.50      0.48      2869\n",
      "weighted avg       0.88      0.94      0.91      2869\n",
      "\n",
      "Confusion matrix:\n",
      "[[2698    0]\n",
      " [ 171    0]]\n"
     ]
    },
    {
     "data": {
      "text/plain": "<Figure size 1200x600 with 2 Axes>",
      "image/png": "[encoded data removed]"
     },
     "metadata": {},
     "output_type": "display_data"
    }
   ],
   "source": [
    "input_shape = (X_train.shape[1], X_train.shape[2])\n",
    "num_classes = y_train.shape[1]\n",
    "model = stacked_lstm(input_shape,num_classes)\n",
    "y_pred, y_true, H = model_pipeline(model, X_train, y_train, X_valid, y_valid)\n",
    "plot_history(H)"
   ],
   "metadata": {
    "collapsed": false
   }
  },
  {
   "cell_type": "markdown",
   "source": [
    "# Load Angle data"
   ],
   "metadata": {
    "collapsed": false
   }
  },
  {
   "cell_type": "code",
   "execution_count": 8,
   "outputs": [
    {
     "name": "stdout",
     "output_type": "stream",
     "text": [
      "C56D is not selected to be used for training (downsampling)\n",
      "C93D is not selected to be used for training (downsampling)\n",
      "C382D is not selected to be used for training (downsampling)\n",
      "C382N is not selected to be used for training (downsampling)\n",
      "C544D is not selected to be used for training (downsampling)\n",
      "C709N is not selected to be used for training (downsampling)\n",
      "C788N is not selected to be used for training (downsampling)\n",
      "P113D is selected to be used for training (downsampling)\n",
      "P113N is selected to be used for training (downsampling)\n",
      "P191D is selected to be used for training (downsampling)\n",
      "P191N is selected to be used for training (downsampling)\n",
      "P299D is selected to be used for training (downsampling)\n",
      "P299N is selected to be used for training (downsampling)\n",
      "P300D is selected to be used for training (downsampling)\n",
      "P336D is selected to be used for training (downsampling)\n",
      "P492D is selected to be used for training (downsampling)\n",
      "P492N is selected to be used for training (downsampling)\n",
      "P531N is selected to be used for training (downsampling)\n",
      "P699D is selected to be used for training (downsampling)\n",
      "P699N is selected to be used for training (downsampling)\n",
      "P890N is selected to be used for training (downsampling)\n",
      "P921D is selected to be used for training (downsampling)\n",
      "P921N is selected to be used for training (downsampling)\n"
     ]
    }
   ],
   "source": [
    "X_train_angle, y_train_angle = load_data(train_participant_num, 'train', downsampling=True, angle_energy=True,data_path='../AllData/')\n",
    "X_valid_angle, y_valid_angle = load_data(valid_participant_num, 'validation', angle_energy=True,data_path='../AllData/')"
   ],
   "metadata": {
    "collapsed": false
   }
  },
  {
   "cell_type": "markdown",
   "source": [
    "# Print shape of data"
   ],
   "metadata": {
    "collapsed": false
   }
  },
  {
   "cell_type": "code",
   "execution_count": 9,
   "outputs": [
    {
     "name": "stdout",
     "output_type": "stream",
     "text": [
      "(5012, 180, 30) (array([0., 1.], dtype=float32), array([1053, 3959]))\n",
      "(2869, 180, 30) (array([0., 1.], dtype=float32), array([ 171, 2698]))\n"
     ]
    }
   ],
   "source": [
    "print(X_train_angle.shape,np.unique(y_train_angle[:,0],return_counts=True))\n",
    "\n",
    "print(X_valid_angle.shape,np.unique(y_valid_angle[:,0],return_counts=True))"
   ],
   "metadata": {
    "collapsed": false
   }
  },
  {
   "cell_type": "markdown",
   "source": [
    "# Build Stacked-Deep-LSTM-Angle model"
   ],
   "metadata": {
    "collapsed": false
   }
  },
  {
   "cell_type": "code",
   "execution_count": 10,
   "outputs": [
    {
     "name": "stdout",
     "output_type": "stream",
     "text": [
      "\n",
      "Epoch 1: LearningRateScheduler setting learning rate to 0.0005000000237487257.\n",
      "Epoch 1/50\n"
     ]
    },
    {
     "name": "stderr",
     "output_type": "stream",
     "text": [
      "/Users/zekunwu/Library/Python/3.9/lib/python/site-packages/keras/optimizers/optimizer_v2/adam.py:114: UserWarning: The `lr` argument is deprecated, use `learning_rate` instead.\n",
      "  super().__init__(name, **kwargs)\n"
     ]
    },
    {
     "name": "stdout",
     "output_type": "stream",
     "text": [
      "11/11 [==============================] - 6s 340ms/step - loss: 0.1696 - binary_accuracy: 0.6225 - val_loss: 0.1092 - val_binary_accuracy: 0.9143 - lr: 5.0000e-04\n",
      "\n",
      "Epoch 2: LearningRateScheduler setting learning rate to 0.0005000000237487257.\n",
      "Epoch 2/50\n",
      "11/11 [==============================] - 4s 341ms/step - loss: 0.1449 - binary_accuracy: 0.7504 - val_loss: 0.0983 - val_binary_accuracy: 0.9157 - lr: 5.0000e-04\n",
      "\n",
      "Epoch 3: LearningRateScheduler setting learning rate to 0.0005000000237487257.\n",
      "Epoch 3/50\n",
      "11/11 [==============================] - 4s 329ms/step - loss: 0.1409 - binary_accuracy: 0.7678 - val_loss: 0.0988 - val_binary_accuracy: 0.9146 - lr: 5.0000e-04\n",
      "\n",
      "Epoch 4: LearningRateScheduler setting learning rate to 0.0005000000237487257.\n",
      "Epoch 4/50\n",
      "11/11 [==============================] - 3s 309ms/step - loss: 0.1381 - binary_accuracy: 0.7723 - val_loss: 0.1014 - val_binary_accuracy: 0.9136 - lr: 5.0000e-04\n",
      "\n",
      "Epoch 5: LearningRateScheduler setting learning rate to 0.0005000000237487257.\n",
      "Epoch 5/50\n",
      "11/11 [==============================] - 3s 321ms/step - loss: 0.1355 - binary_accuracy: 0.7775 - val_loss: 0.1006 - val_binary_accuracy: 0.9125 - lr: 5.0000e-04\n",
      "\n",
      "Epoch 6: LearningRateScheduler setting learning rate to 0.0005000000237487257.\n",
      "Epoch 6/50\n",
      "11/11 [==============================] - 4s 328ms/step - loss: 0.1374 - binary_accuracy: 0.7817 - val_loss: 0.0989 - val_binary_accuracy: 0.9101 - lr: 5.0000e-04\n",
      "\n",
      "Epoch 7: LearningRateScheduler setting learning rate to 0.0005000000237487257.\n",
      "Epoch 7/50\n",
      "11/11 [==============================] - 3s 311ms/step - loss: 0.1345 - binary_accuracy: 0.7791 - val_loss: 0.0958 - val_binary_accuracy: 0.9090 - lr: 5.0000e-04\n",
      "\n",
      "Epoch 8: LearningRateScheduler setting learning rate to 0.0005000000237487257.\n",
      "Epoch 8/50\n",
      "11/11 [==============================] - 3s 321ms/step - loss: 0.1348 - binary_accuracy: 0.7765 - val_loss: 0.0933 - val_binary_accuracy: 0.9094 - lr: 5.0000e-04\n",
      "\n",
      "Epoch 9: LearningRateScheduler setting learning rate to 0.0005000000237487257.\n",
      "Epoch 9/50\n",
      "11/11 [==============================] - 4s 349ms/step - loss: 0.1339 - binary_accuracy: 0.7779 - val_loss: 0.0930 - val_binary_accuracy: 0.9069 - lr: 5.0000e-04\n",
      "\n",
      "Epoch 10: LearningRateScheduler setting learning rate to 0.0005000000237487257.\n",
      "Epoch 10/50\n",
      "11/11 [==============================] - 3s 318ms/step - loss: 0.1320 - binary_accuracy: 0.7803 - val_loss: 0.0935 - val_binary_accuracy: 0.9017 - lr: 5.0000e-04\n",
      "\n",
      "Epoch 11: LearningRateScheduler setting learning rate to 0.00047500002256128937.\n",
      "Epoch 11/50\n",
      "11/11 [==============================] - 3s 316ms/step - loss: 0.1305 - binary_accuracy: 0.7811 - val_loss: 0.0890 - val_binary_accuracy: 0.9017 - lr: 4.7500e-04\n",
      "\n",
      "Epoch 12: LearningRateScheduler setting learning rate to 0.0004512500076089054.\n",
      "Epoch 12/50\n",
      "11/11 [==============================] - 4s 358ms/step - loss: 0.1286 - binary_accuracy: 0.7793 - val_loss: 0.0877 - val_binary_accuracy: 0.8982 - lr: 4.5125e-04\n",
      "\n",
      "Epoch 13: LearningRateScheduler setting learning rate to 0.00042868750169873233.\n",
      "Epoch 13/50\n",
      "11/11 [==============================] - 4s 319ms/step - loss: 0.1284 - binary_accuracy: 0.7815 - val_loss: 0.0917 - val_binary_accuracy: 0.8993 - lr: 4.2869e-04\n",
      "\n",
      "Epoch 14: LearningRateScheduler setting learning rate to 0.0004072531155543402.\n",
      "Epoch 14/50\n",
      "11/11 [==============================] - 4s 340ms/step - loss: 0.1295 - binary_accuracy: 0.7793 - val_loss: 0.0870 - val_binary_accuracy: 0.9017 - lr: 4.0725e-04\n",
      "\n",
      "Epoch 15: LearningRateScheduler setting learning rate to 0.0003868904459523037.\n",
      "Epoch 15/50\n",
      "11/11 [==============================] - 3s 319ms/step - loss: 0.1298 - binary_accuracy: 0.7801 - val_loss: 0.0847 - val_binary_accuracy: 0.9024 - lr: 3.8689e-04\n",
      "\n",
      "Epoch 16: LearningRateScheduler setting learning rate to 0.000367545909830369.\n",
      "Epoch 16/50\n",
      "11/11 [==============================] - 3s 319ms/step - loss: 0.1260 - binary_accuracy: 0.7815 - val_loss: 0.0848 - val_binary_accuracy: 0.8961 - lr: 3.6755e-04\n",
      "\n",
      "Epoch 17: LearningRateScheduler setting learning rate to 0.0003491686060442589.\n",
      "Epoch 17/50\n",
      "11/11 [==============================] - 4s 311ms/step - loss: 0.1246 - binary_accuracy: 0.7807 - val_loss: 0.0832 - val_binary_accuracy: 0.8947 - lr: 3.4917e-04\n",
      "\n",
      "Epoch 18: LearningRateScheduler setting learning rate to 0.00033171017712447793.\n",
      "Epoch 18/50\n",
      "11/11 [==============================] - 3s 302ms/step - loss: 0.1237 - binary_accuracy: 0.7867 - val_loss: 0.0834 - val_binary_accuracy: 0.8926 - lr: 3.3171e-04\n",
      "\n",
      "Epoch 19: LearningRateScheduler setting learning rate to 0.0003151246710331179.\n",
      "Epoch 19/50\n",
      "11/11 [==============================] - 4s 341ms/step - loss: 0.1247 - binary_accuracy: 0.7821 - val_loss: 0.0830 - val_binary_accuracy: 0.8913 - lr: 3.1512e-04\n",
      "\n",
      "Epoch 20: LearningRateScheduler setting learning rate to 0.00029936843056930227.\n",
      "Epoch 20/50\n",
      "11/11 [==============================] - 4s 332ms/step - loss: 0.1234 - binary_accuracy: 0.7911 - val_loss: 0.0840 - val_binary_accuracy: 0.8759 - lr: 2.9937e-04\n",
      "\n",
      "Epoch 21: LearningRateScheduler setting learning rate to 0.0002844000104232691.\n",
      "Epoch 21/50\n",
      "11/11 [==============================] - 4s 373ms/step - loss: 0.1209 - binary_accuracy: 0.7895 - val_loss: 0.0843 - val_binary_accuracy: 0.8602 - lr: 2.8440e-04\n",
      "\n",
      "Epoch 22: LearningRateScheduler setting learning rate to 0.0002701800112845376.\n",
      "Epoch 22/50\n",
      "11/11 [==============================] - 4s 324ms/step - loss: 0.1214 - binary_accuracy: 0.7903 - val_loss: 0.0833 - val_binary_accuracy: 0.8571 - lr: 2.7018e-04\n",
      "\n",
      "Epoch 23: LearningRateScheduler setting learning rate to 0.00025667099689599123.\n",
      "Epoch 23/50\n",
      "11/11 [==============================] - 3s 304ms/step - loss: 0.1217 - binary_accuracy: 0.7851 - val_loss: 0.0840 - val_binary_accuracy: 0.8435 - lr: 2.5667e-04\n",
      "\n",
      "Epoch 24: LearningRateScheduler setting learning rate to 0.0002438374387566.\n",
      "Epoch 24/50\n",
      "11/11 [==============================] - 4s 356ms/step - loss: 0.1216 - binary_accuracy: 0.7879 - val_loss: 0.0838 - val_binary_accuracy: 0.8404 - lr: 2.4384e-04\n",
      "90/90 [==============================] - 1s 10ms/step\n",
      "Classification report:\n",
      "              precision    recall  f1-score   support\n",
      "\n",
      "           0       0.96      0.87      0.91      2698\n",
      "           1       0.17      0.45      0.25       171\n",
      "\n",
      "    accuracy                           0.84      2869\n",
      "   macro avg       0.57      0.66      0.58      2869\n",
      "weighted avg       0.91      0.84      0.87      2869\n",
      "\n",
      "Confusion matrix:\n",
      "[[2334  364]\n",
      " [  94   77]]\n"
     ]
    },
    {
     "data": {
      "text/plain": "<Figure size 1200x600 with 2 Axes>",
      "image/png": "[encoded data removed]"
     },
     "metadata": {},
     "output_type": "display_data"
    }
   ],
   "source": [
    "input_shape = (X_train_angle.shape[1], X_train_angle.shape[2])\n",
    "num_classes = y_train_angle.shape[1]\n",
    "model = stacked_lstm(input_shape,num_classes)\n",
    "y_pred, y_true, H = model_pipeline(model, X_train_angle, y_train_angle, X_valid_angle, y_valid_angle)\n",
    "plot_history(H)"
   ],
   "metadata": {
    "collapsed": false
   }
  },
  {
   "cell_type": "markdown",
   "source": [
    "# Flatten data for Random Forest and AdaBoost"
   ],
   "metadata": {
    "collapsed": false
   }
  },
  {
   "cell_type": "code",
   "execution_count": 47,
   "outputs": [],
   "source": [
    "X_train_flatten,y_train_flatten = flatten_data(X_train,y_train)\n",
    "X_valid_flatten,y_valid_flatten = flatten_data(X_valid,y_valid)"
   ],
   "metadata": {
    "collapsed": false
   }
  },
  {
   "cell_type": "markdown",
   "source": [
    "# Print shape of data"
   ],
   "metadata": {
    "collapsed": false
   }
  },
  {
   "cell_type": "code",
   "execution_count": 48,
   "outputs": [
    {
     "name": "stdout",
     "output_type": "stream",
     "text": [
      "(5012, 12600) (array([0, 1]), array([3959, 1053]))\n",
      "(2869, 12600) (array([0, 1]), array([2698,  171]))\n"
     ]
    }
   ],
   "source": [
    "print(X_train_flatten.shape,np.unique(y_train_flatten[:],return_counts=True))\n",
    "\n",
    "print(X_valid_flatten.shape,np.unique(y_valid_flatten[:],return_counts=True))"
   ],
   "metadata": {
    "collapsed": false
   }
  },
  {
   "cell_type": "markdown",
   "source": [
    "# Build Random Forest and AdaBoost model"
   ],
   "metadata": {
    "collapsed": false
   }
  },
  {
   "cell_type": "code",
   "execution_count": 49,
   "outputs": [
    {
     "data": {
      "text/plain": "AdaBoostClassifier()",
      "text/html": "<style>#sk-container-id-2 {color: black;background-color: white;}#sk-container-id-2 pre{padding: 0;}#sk-container-id-2 div.sk-toggleable {background-color: white;}#sk-container-id-2 label.sk-toggleable__label {cursor: pointer;display: block;width: 100%;margin-bottom: 0;padding: 0.3em;box-sizing: border-box;text-align: center;}#sk-container-id-2 label.sk-toggleable__label-arrow:before {content: \"▸\";float: left;margin-right: 0.25em;color: #696969;}#sk-container-id-2 label.sk-toggleable__label-arrow:hover:before {color: black;}#sk-container-id-2 div.sk-estimator:hover label.sk-toggleable__label-arrow:before {color: black;}#sk-container-id-2 div.sk-toggleable__content {max-height: 0;max-width: 0;overflow: hidden;text-align: left;background-color: #f0f8ff;}#sk-container-id-2 div.sk-toggleable__content pre {margin: 0.2em;color: black;border-radius: 0.25em;background-color: #f0f8ff;}#sk-container-id-2 input.sk-toggleable__control:checked~div.sk-toggleable__content {max-height: 200px;max-width: 100%;overflow: auto;}#sk-container-id-2 input.sk-toggleable__control:checked~label.sk-toggleable__label-arrow:before {content: \"▾\";}#sk-container-id-2 div.sk-estimator input.sk-toggleable__control:checked~label.sk-toggleable__label {background-color: #d4ebff;}#sk-container-id-2 div.sk-label input.sk-toggleable__control:checked~label.sk-toggleable__label {background-color: #d4ebff;}#sk-container-id-2 input.sk-hidden--visually {border: 0;clip: rect(1px 1px 1px 1px);clip: rect(1px, 1px, 1px, 1px);height: 1px;margin: -1px;overflow: hidden;padding: 0;position: absolute;width: 1px;}#sk-container-id-2 div.sk-estimator {font-family: monospace;background-color: #f0f8ff;border: 1px dotted black;border-radius: 0.25em;box-sizing: border-box;margin-bottom: 0.5em;}#sk-container-id-2 div.sk-estimator:hover {background-color: #d4ebff;}#sk-container-id-2 div.sk-parallel-item::after {content: \"\";width: 100%;border-bottom: 1px solid gray;flex-grow: 1;}#sk-container-id-2 div.sk-label:hover label.sk-toggleable__label {background-color: #d4ebff;}#sk-container-id-2 div.sk-serial::before {content: \"\";position: absolute;border-left: 1px solid gray;box-sizing: border-box;top: 0;bottom: 0;left: 50%;z-index: 0;}#sk-container-id-2 div.sk-serial {display: flex;flex-direction: column;align-items: center;background-color: white;padding-right: 0.2em;padding-left: 0.2em;position: relative;}#sk-container-id-2 div.sk-item {position: relative;z-index: 1;}#sk-container-id-2 div.sk-parallel {display: flex;align-items: stretch;justify-content: center;background-color: white;position: relative;}#sk-container-id-2 div.sk-item::before, #sk-container-id-2 div.sk-parallel-item::before {content: \"\";position: absolute;border-left: 1px solid gray;box-sizing: border-box;top: 0;bottom: 0;left: 50%;z-index: -1;}#sk-container-id-2 div.sk-parallel-item {display: flex;flex-direction: column;z-index: 1;position: relative;background-color: white;}#sk-container-id-2 div.sk-parallel-item:first-child::after {align-self: flex-end;width: 50%;}#sk-container-id-2 div.sk-parallel-item:last-child::after {align-self: flex-start;width: 50%;}#sk-container-id-2 div.sk-parallel-item:only-child::after {width: 0;}#sk-container-id-2 div.sk-dashed-wrapped {border: 1px dashed gray;margin: 0 0.4em 0.5em 0.4em;box-sizing: border-box;padding-bottom: 0.4em;background-color: white;}#sk-container-id-2 div.sk-label label {font-family: monospace;font-weight: bold;display: inline-block;line-height: 1.2em;}#sk-container-id-2 div.sk-label-container {text-align: center;}#sk-container-id-2 div.sk-container {/* jupyter's `normalize.less` sets `[hidden] { display: none; }` but bootstrap.min.css set `[hidden] { display: none !important; }` so we also need the `!important` here to be able to override the default hidden behavior on the sphinx rendered scikit-learn.org. See: https://github.com/scikit-learn/scikit-learn/issues/21755 */display: inline-block !important;position: relative;}#sk-container-id-2 div.sk-text-repr-fallback {display: none;}</style><div id=\"sk-container-id-2\" class=\"sk-top-container\"><div class=\"sk-text-repr-fallback\"><pre>AdaBoostClassifier()</pre><b>In a Jupyter environment, please rerun this cell to show the HTML representation or trust the notebook. <br />On GitHub, the HTML representation is unable to render, please try loading this page with nbviewer.org.</b></div><div class=\"sk-container\" hidden><div class=\"sk-item\"><div class=\"sk-estimator sk-toggleable\"><input class=\"sk-toggleable__control sk-hidden--visually\" id=\"sk-estimator-id-2\" type=\"checkbox\" checked><label for=\"sk-estimator-id-2\" class=\"sk-toggleable__label sk-toggleable__label-arrow\">AdaBoostClassifier</label><div class=\"sk-toggleable__content\"><pre>AdaBoostClassifier()</pre></div></div></div></div></div>"
     },
     "execution_count": 49,
     "metadata": {},
     "output_type": "execute_result"
    }
   ],
   "source": [
    "rf = RandomForestClassifier()\n",
    "ada = AdaBoostClassifier()\n",
    "\n",
    "rf.fit(X_train_flatten,y_train_flatten)\n",
    "ada.fit(X_train_flatten,y_train_flatten)"
   ],
   "metadata": {
    "collapsed": false
   }
  },
  {
   "cell_type": "markdown",
   "source": [
    "# Print classification report and confusion matrix for Random Forest and AdaBoost model"
   ],
   "metadata": {
    "collapsed": false
   }
  },
  {
   "cell_type": "code",
   "execution_count": 50,
   "outputs": [],
   "source": [
    "rf_pred = rf.predict(X_valid_flatten)\n",
    "ada_pred = ada.predict(X_valid_flatten)"
   ],
   "metadata": {
    "collapsed": false
   }
  },
  {
   "cell_type": "code",
   "execution_count": 51,
   "outputs": [
    {
     "name": "stdout",
     "output_type": "stream",
     "text": [
      "              precision    recall  f1-score   support\n",
      "\n",
      "           0       0.95      0.79      0.86      2698\n",
      "           1       0.08      0.28      0.12       171\n",
      "\n",
      "    accuracy                           0.76      2869\n",
      "   macro avg       0.51      0.54      0.49      2869\n",
      "weighted avg       0.89      0.76      0.82      2869\n",
      "\n",
      "[[2131  567]\n",
      " [ 123   48]]\n"
     ]
    }
   ],
   "source": [
    "print(classification_report(y_valid_flatten,rf_pred))\n",
    "print(confusion_matrix(y_valid_flatten,rf_pred))"
   ],
   "metadata": {
    "collapsed": false
   }
  },
  {
   "cell_type": "code",
   "execution_count": 52,
   "outputs": [
    {
     "name": "stdout",
     "output_type": "stream",
     "text": [
      "              precision    recall  f1-score   support\n",
      "\n",
      "           0       0.95      0.95      0.95      2698\n",
      "           1       0.20      0.22      0.21       171\n",
      "\n",
      "    accuracy                           0.90      2869\n",
      "   macro avg       0.58      0.58      0.58      2869\n",
      "weighted avg       0.91      0.90      0.90      2869\n",
      "\n",
      "[[2553  145]\n",
      " [ 134   37]]\n"
     ]
    }
   ],
   "source": [
    "print(classification_report(y_valid_flatten,ada_pred))\n",
    "print(confusion_matrix(y_valid_flatten,ada_pred))"
   ],
   "metadata": {
    "collapsed": false
   }
  }
 ],
 "metadata": {
  "kernelspec": {
   "display_name": "Python 3",
   "language": "python",
   "name": "python3"
  },
  "language_info": {
   "codemirror_mode": {
    "name": "ipython",
    "version": 2
   },
   "file_extension": ".py",
   "mimetype": "text/x-python",
   "name": "python",
   "nbconvert_exporter": "python",
   "pygments_lexer": "ipython2",
   "version": "2.7.6"
  }
 },
 "nbformat": 4,
 "nbformat_minor": 0
}
